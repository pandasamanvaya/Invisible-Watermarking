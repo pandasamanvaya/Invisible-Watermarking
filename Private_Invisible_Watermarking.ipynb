{
  "nbformat": 4,
  "nbformat_minor": 0,
  "metadata": {
    "colab": {
      "provenance": []
    },
    "kernelspec": {
      "name": "python3",
      "display_name": "Python 3"
    }
  },
  "cells": [
    {
      "cell_type": "markdown",
      "source": [
        "# **Privacy-Preserving Invisible Image Watermarking System**"
      ],
      "metadata": {
        "id": "fq5xkSnTLYd6"
      }
    },
    {
      "cell_type": "code",
      "source": [
        "!pip install -U pip wheel setuptools\n",
        "!pip install concrete-python"
      ],
      "metadata": {
        "colab": {
          "base_uri": "https://localhost:8080/"
        },
        "collapsed": true,
        "id": "4lxbtojDWZJm",
        "outputId": "82d26f59-39ee-4afd-fc51-22fba099d9f9"
      },
      "execution_count": 1,
      "outputs": [
        {
          "output_type": "stream",
          "name": "stdout",
          "text": [
            "Requirement already satisfied: pip in /usr/local/lib/python3.11/dist-packages (25.0)\n",
            "Requirement already satisfied: wheel in /usr/local/lib/python3.11/dist-packages (0.45.1)\n",
            "Requirement already satisfied: setuptools in /usr/local/lib/python3.11/dist-packages (75.8.0)\n",
            "Collecting concrete-python\n",
            "  Using cached concrete_python-2.9.0-cp311-cp311-manylinux_2_28_x86_64.whl.metadata (12 kB)\n",
            "Requirement already satisfied: importlib-resources>=6.1 in /usr/local/lib/python3.11/dist-packages (from concrete-python) (6.5.2)\n",
            "Requirement already satisfied: jsonpickle>=3.0.3 in /usr/local/lib/python3.11/dist-packages (from concrete-python) (4.0.1)\n",
            "Requirement already satisfied: networkx>=2.6 in /usr/local/lib/python3.11/dist-packages (from concrete-python) (3.4.2)\n",
            "Requirement already satisfied: numpy<2.0,>=1.23 in /usr/local/lib/python3.11/dist-packages (from concrete-python) (1.26.4)\n",
            "Requirement already satisfied: scipy>=1.10 in /usr/local/lib/python3.11/dist-packages (from concrete-python) (1.13.1)\n",
            "Requirement already satisfied: torch>=1.13 in /usr/local/lib/python3.11/dist-packages (from concrete-python) (2.5.1+cu124)\n",
            "Collecting z3-solver==4.13.0 (from concrete-python)\n",
            "  Using cached z3_solver-4.13.0.0-py2.py3-none-manylinux2014_x86_64.whl.metadata (757 bytes)\n",
            "Requirement already satisfied: filelock in /usr/local/lib/python3.11/dist-packages (from torch>=1.13->concrete-python) (3.17.0)\n",
            "Requirement already satisfied: typing-extensions>=4.8.0 in /usr/local/lib/python3.11/dist-packages (from torch>=1.13->concrete-python) (4.12.2)\n",
            "Requirement already satisfied: jinja2 in /usr/local/lib/python3.11/dist-packages (from torch>=1.13->concrete-python) (3.1.5)\n",
            "Requirement already satisfied: fsspec in /usr/local/lib/python3.11/dist-packages (from torch>=1.13->concrete-python) (2024.10.0)\n",
            "Collecting nvidia-cuda-nvrtc-cu12==12.4.127 (from torch>=1.13->concrete-python)\n",
            "  Using cached nvidia_cuda_nvrtc_cu12-12.4.127-py3-none-manylinux2014_x86_64.whl.metadata (1.5 kB)\n",
            "Collecting nvidia-cuda-runtime-cu12==12.4.127 (from torch>=1.13->concrete-python)\n",
            "  Using cached nvidia_cuda_runtime_cu12-12.4.127-py3-none-manylinux2014_x86_64.whl.metadata (1.5 kB)\n",
            "Collecting nvidia-cuda-cupti-cu12==12.4.127 (from torch>=1.13->concrete-python)\n",
            "  Using cached nvidia_cuda_cupti_cu12-12.4.127-py3-none-manylinux2014_x86_64.whl.metadata (1.6 kB)\n",
            "Collecting nvidia-cudnn-cu12==9.1.0.70 (from torch>=1.13->concrete-python)\n",
            "  Using cached nvidia_cudnn_cu12-9.1.0.70-py3-none-manylinux2014_x86_64.whl.metadata (1.6 kB)\n",
            "Collecting nvidia-cublas-cu12==12.4.5.8 (from torch>=1.13->concrete-python)\n",
            "  Using cached nvidia_cublas_cu12-12.4.5.8-py3-none-manylinux2014_x86_64.whl.metadata (1.5 kB)\n",
            "Collecting nvidia-cufft-cu12==11.2.1.3 (from torch>=1.13->concrete-python)\n",
            "  Using cached nvidia_cufft_cu12-11.2.1.3-py3-none-manylinux2014_x86_64.whl.metadata (1.5 kB)\n",
            "Collecting nvidia-curand-cu12==10.3.5.147 (from torch>=1.13->concrete-python)\n",
            "  Using cached nvidia_curand_cu12-10.3.5.147-py3-none-manylinux2014_x86_64.whl.metadata (1.5 kB)\n",
            "Collecting nvidia-cusolver-cu12==11.6.1.9 (from torch>=1.13->concrete-python)\n",
            "  Using cached nvidia_cusolver_cu12-11.6.1.9-py3-none-manylinux2014_x86_64.whl.metadata (1.6 kB)\n",
            "Collecting nvidia-cusparse-cu12==12.3.1.170 (from torch>=1.13->concrete-python)\n",
            "  Using cached nvidia_cusparse_cu12-12.3.1.170-py3-none-manylinux2014_x86_64.whl.metadata (1.6 kB)\n",
            "Requirement already satisfied: nvidia-nccl-cu12==2.21.5 in /usr/local/lib/python3.11/dist-packages (from torch>=1.13->concrete-python) (2.21.5)\n",
            "Requirement already satisfied: nvidia-nvtx-cu12==12.4.127 in /usr/local/lib/python3.11/dist-packages (from torch>=1.13->concrete-python) (12.4.127)\n",
            "Collecting nvidia-nvjitlink-cu12==12.4.127 (from torch>=1.13->concrete-python)\n",
            "  Using cached nvidia_nvjitlink_cu12-12.4.127-py3-none-manylinux2014_x86_64.whl.metadata (1.5 kB)\n",
            "Requirement already satisfied: triton==3.1.0 in /usr/local/lib/python3.11/dist-packages (from torch>=1.13->concrete-python) (3.1.0)\n",
            "Requirement already satisfied: sympy==1.13.1 in /usr/local/lib/python3.11/dist-packages (from torch>=1.13->concrete-python) (1.13.1)\n",
            "Requirement already satisfied: mpmath<1.4,>=1.1.0 in /usr/local/lib/python3.11/dist-packages (from sympy==1.13.1->torch>=1.13->concrete-python) (1.3.0)\n",
            "Requirement already satisfied: MarkupSafe>=2.0 in /usr/local/lib/python3.11/dist-packages (from jinja2->torch>=1.13->concrete-python) (3.0.2)\n",
            "Using cached concrete_python-2.9.0-cp311-cp311-manylinux_2_28_x86_64.whl (77.0 MB)\n",
            "Using cached z3_solver-4.13.0.0-py2.py3-none-manylinux2014_x86_64.whl (57.3 MB)\n",
            "Using cached nvidia_cublas_cu12-12.4.5.8-py3-none-manylinux2014_x86_64.whl (363.4 MB)\n",
            "Using cached nvidia_cuda_cupti_cu12-12.4.127-py3-none-manylinux2014_x86_64.whl (13.8 MB)\n",
            "Using cached nvidia_cuda_nvrtc_cu12-12.4.127-py3-none-manylinux2014_x86_64.whl (24.6 MB)\n",
            "Using cached nvidia_cuda_runtime_cu12-12.4.127-py3-none-manylinux2014_x86_64.whl (883 kB)\n",
            "Downloading nvidia_cudnn_cu12-9.1.0.70-py3-none-manylinux2014_x86_64.whl (664.8 MB)\n",
            "\u001b[2K   \u001b[90m━━━━━━━━━━━━━━━━━━━━━━━━━━━━━━━━━━━━━━━━\u001b[0m \u001b[32m664.8/664.8 MB\u001b[0m \u001b[31m36.0 MB/s\u001b[0m eta \u001b[36m0:00:00\u001b[0m\n",
            "\u001b[?25hDownloading nvidia_cufft_cu12-11.2.1.3-py3-none-manylinux2014_x86_64.whl (211.5 MB)\n",
            "\u001b[2K   \u001b[90m━━━━━━━━━━━━━━━━━━━━━━━━━━━━━━━━━━━━━━━━\u001b[0m \u001b[32m211.5/211.5 MB\u001b[0m \u001b[31m68.3 MB/s\u001b[0m eta \u001b[36m0:00:00\u001b[0m\n",
            "\u001b[?25hDownloading nvidia_curand_cu12-10.3.5.147-py3-none-manylinux2014_x86_64.whl (56.3 MB)\n",
            "\u001b[2K   \u001b[90m━━━━━━━━━━━━━━━━━━━━━━━━━━━━━━━━━━━━━━━━\u001b[0m \u001b[32m56.3/56.3 MB\u001b[0m \u001b[31m60.1 MB/s\u001b[0m eta \u001b[36m0:00:00\u001b[0m\n",
            "\u001b[?25hDownloading nvidia_cusolver_cu12-11.6.1.9-py3-none-manylinux2014_x86_64.whl (127.9 MB)\n",
            "\u001b[2K   \u001b[90m━━━━━━━━━━━━━━━━━━━━━━━━━━━━━━━━━━━━━━━━\u001b[0m \u001b[32m127.9/127.9 MB\u001b[0m \u001b[31m59.1 MB/s\u001b[0m eta \u001b[36m0:00:00\u001b[0m\n",
            "\u001b[?25hDownloading nvidia_cusparse_cu12-12.3.1.170-py3-none-manylinux2014_x86_64.whl (207.5 MB)\n",
            "\u001b[2K   \u001b[90m━━━━━━━━━━━━━━━━━━━━━━━━━━━━━━━━━━━━━━━━\u001b[0m \u001b[32m207.5/207.5 MB\u001b[0m \u001b[31m68.4 MB/s\u001b[0m eta \u001b[36m0:00:00\u001b[0m\n",
            "\u001b[?25hDownloading nvidia_nvjitlink_cu12-12.4.127-py3-none-manylinux2014_x86_64.whl (21.1 MB)\n",
            "\u001b[2K   \u001b[90m━━━━━━━━━━━━━━━━━━━━━━━━━━━━━━━━━━━━━━━━\u001b[0m \u001b[32m21.1/21.1 MB\u001b[0m \u001b[31m145.8 MB/s\u001b[0m eta \u001b[36m0:00:00\u001b[0m\n",
            "\u001b[?25hInstalling collected packages: z3-solver, nvidia-nvjitlink-cu12, nvidia-curand-cu12, nvidia-cufft-cu12, nvidia-cuda-runtime-cu12, nvidia-cuda-nvrtc-cu12, nvidia-cuda-cupti-cu12, nvidia-cublas-cu12, nvidia-cusparse-cu12, nvidia-cudnn-cu12, nvidia-cusolver-cu12, concrete-python\n",
            "  Attempting uninstall: nvidia-nvjitlink-cu12\n",
            "    Found existing installation: nvidia-nvjitlink-cu12 12.5.82\n",
            "    Uninstalling nvidia-nvjitlink-cu12-12.5.82:\n",
            "      Successfully uninstalled nvidia-nvjitlink-cu12-12.5.82\n",
            "  Attempting uninstall: nvidia-curand-cu12\n",
            "    Found existing installation: nvidia-curand-cu12 10.3.6.82\n",
            "    Uninstalling nvidia-curand-cu12-10.3.6.82:\n",
            "      Successfully uninstalled nvidia-curand-cu12-10.3.6.82\n",
            "  Attempting uninstall: nvidia-cufft-cu12\n",
            "    Found existing installation: nvidia-cufft-cu12 11.2.3.61\n",
            "    Uninstalling nvidia-cufft-cu12-11.2.3.61:\n",
            "      Successfully uninstalled nvidia-cufft-cu12-11.2.3.61\n",
            "  Attempting uninstall: nvidia-cuda-runtime-cu12\n",
            "    Found existing installation: nvidia-cuda-runtime-cu12 12.5.82\n",
            "    Uninstalling nvidia-cuda-runtime-cu12-12.5.82:\n",
            "      Successfully uninstalled nvidia-cuda-runtime-cu12-12.5.82\n",
            "  Attempting uninstall: nvidia-cuda-nvrtc-cu12\n",
            "    Found existing installation: nvidia-cuda-nvrtc-cu12 12.5.82\n",
            "    Uninstalling nvidia-cuda-nvrtc-cu12-12.5.82:\n",
            "      Successfully uninstalled nvidia-cuda-nvrtc-cu12-12.5.82\n",
            "  Attempting uninstall: nvidia-cuda-cupti-cu12\n",
            "    Found existing installation: nvidia-cuda-cupti-cu12 12.5.82\n",
            "    Uninstalling nvidia-cuda-cupti-cu12-12.5.82:\n",
            "      Successfully uninstalled nvidia-cuda-cupti-cu12-12.5.82\n",
            "  Attempting uninstall: nvidia-cublas-cu12\n",
            "    Found existing installation: nvidia-cublas-cu12 12.5.3.2\n",
            "    Uninstalling nvidia-cublas-cu12-12.5.3.2:\n",
            "      Successfully uninstalled nvidia-cublas-cu12-12.5.3.2\n",
            "  Attempting uninstall: nvidia-cusparse-cu12\n",
            "    Found existing installation: nvidia-cusparse-cu12 12.5.1.3\n",
            "    Uninstalling nvidia-cusparse-cu12-12.5.1.3:\n",
            "      Successfully uninstalled nvidia-cusparse-cu12-12.5.1.3\n",
            "  Attempting uninstall: nvidia-cudnn-cu12\n",
            "    Found existing installation: nvidia-cudnn-cu12 9.3.0.75\n",
            "    Uninstalling nvidia-cudnn-cu12-9.3.0.75:\n",
            "      Successfully uninstalled nvidia-cudnn-cu12-9.3.0.75\n",
            "  Attempting uninstall: nvidia-cusolver-cu12\n",
            "    Found existing installation: nvidia-cusolver-cu12 11.6.3.83\n",
            "    Uninstalling nvidia-cusolver-cu12-11.6.3.83:\n",
            "      Successfully uninstalled nvidia-cusolver-cu12-11.6.3.83\n",
            "Successfully installed concrete-python-2.9.0 nvidia-cublas-cu12-12.4.5.8 nvidia-cuda-cupti-cu12-12.4.127 nvidia-cuda-nvrtc-cu12-12.4.127 nvidia-cuda-runtime-cu12-12.4.127 nvidia-cudnn-cu12-9.1.0.70 nvidia-cufft-cu12-11.2.1.3 nvidia-curand-cu12-10.3.5.147 nvidia-cusolver-cu12-11.6.1.9 nvidia-cusparse-cu12-12.3.1.170 nvidia-nvjitlink-cu12-12.4.127 z3-solver-4.13.0.0\n"
          ]
        }
      ]
    },
    {
      "cell_type": "code",
      "source": [
        "import cv2\n",
        "from concrete import fhe\n",
        "import numpy as np\n",
        "from copy import deepcopy\n",
        "import time\n",
        "from matplotlib import pyplot as plt"
      ],
      "metadata": {
        "id": "DMM74jJMWwti"
      },
      "execution_count": 1,
      "outputs": []
    },
    {
      "cell_type": "code",
      "source": [
        "def read_image(path):\n",
        "  img = cv2.imread(path)\n",
        "  return img"
      ],
      "metadata": {
        "id": "abJdp_6gaH8Z"
      },
      "execution_count": 2,
      "outputs": []
    },
    {
      "cell_type": "code",
      "source": [
        "cifar_ind = 10\n",
        "path = f\"/content/drive/MyDrive/cifar100/{cifar_ind}.jpg\"\n",
        "img = read_image(path)"
      ],
      "metadata": {
        "id": "Y_ewtNSHW_OC"
      },
      "execution_count": 53,
      "outputs": []
    },
    {
      "cell_type": "code",
      "source": [
        "l, b, c = img.shape\n",
        "print(l, b, c)\n",
        "print(img.shape)"
      ],
      "metadata": {
        "colab": {
          "base_uri": "https://localhost:8080/"
        },
        "id": "qkMgEGEQXAaT",
        "outputId": "18473ceb-7af8-49bf-e2fe-89fdf30f2d65"
      },
      "execution_count": 4,
      "outputs": [
        {
          "output_type": "stream",
          "name": "stdout",
          "text": [
            "32 32 3\n",
            "(32, 32, 3)\n"
          ]
        }
      ]
    },
    {
      "cell_type": "code",
      "source": [
        "watermark = b\"A watermark for zama bounty\"\n",
        "print(len(watermark))"
      ],
      "metadata": {
        "colab": {
          "base_uri": "https://localhost:8080/"
        },
        "id": "u-M8j9VhYSzI",
        "outputId": "5e782dfa-083f-433f-b26b-cbe61616de40"
      },
      "execution_count": 5,
      "outputs": [
        {
          "output_type": "stream",
          "name": "stdout",
          "text": [
            "27\n"
          ]
        }
      ]
    },
    {
      "cell_type": "code",
      "source": [
        "info_bit = 4\n",
        "mask = 1 << (info_bit-1)\n",
        "repetition_len = 4\n",
        "watermark_len = l*b\n",
        "index = 1"
      ],
      "metadata": {
        "id": "89nBg7NMSFfq"
      },
      "execution_count": 6,
      "outputs": []
    },
    {
      "cell_type": "code",
      "source": [
        "def byte_to_byte_str(bytes):\n",
        "    return ''.join(format(byte, '08b') for byte in bytes)\n",
        "\n",
        "def encode_repeated_bits(bits, factor):\n",
        "    repeated_bits = ''\n",
        "    for bit in bits:\n",
        "        repeated_bits += bit*factor\n",
        "    return repeated_bits"
      ],
      "metadata": {
        "id": "NSMRnzBlTTSx"
      },
      "execution_count": 7,
      "outputs": []
    },
    {
      "cell_type": "code",
      "source": [
        "watermark_bits = byte_to_byte_str(watermark)\n",
        "watermark_bits = encode_repeated_bits(watermark_bits, repetition_len)\n",
        "# print(watermark_bits)\n",
        "watermark_bits += '0'*(watermark_len - len(watermark_bits))\n",
        "print(len(watermark_bits))"
      ],
      "metadata": {
        "colab": {
          "base_uri": "https://localhost:8080/"
        },
        "id": "KzGiJJxDUFw7",
        "outputId": "3eb16f91-86f1-4073-b2b1-2dae818352ca"
      },
      "execution_count": 8,
      "outputs": [
        {
          "output_type": "stream",
          "name": "stdout",
          "text": [
            "1024\n"
          ]
        }
      ]
    },
    {
      "cell_type": "code",
      "source": [
        "x = np.arange(watermark_len)\n",
        "permutation_map = np.random.permutation(x)"
      ],
      "metadata": {
        "id": "jmE_qFqqV1OZ"
      },
      "execution_count": 9,
      "outputs": []
    },
    {
      "cell_type": "code",
      "source": [
        "perm_watermark_bits = np.zeros(watermark_len, dtype=int)\n",
        "inv_permutation_map = np.zeros(watermark_len, dtype=int)"
      ],
      "metadata": {
        "id": "3b7AluwE9zlp"
      },
      "execution_count": 10,
      "outputs": []
    },
    {
      "cell_type": "code",
      "source": [
        "print(len(perm_watermark_bits), len(permutation_map), len(inv_permutation_map))"
      ],
      "metadata": {
        "colab": {
          "base_uri": "https://localhost:8080/"
        },
        "id": "o1Sg5Ky7WKWd",
        "outputId": "d99777fa-6ced-434e-f2eb-012b7584977e"
      },
      "execution_count": 11,
      "outputs": [
        {
          "output_type": "stream",
          "name": "stdout",
          "text": [
            "1024 1024 1024\n"
          ]
        }
      ]
    },
    {
      "cell_type": "code",
      "source": [
        "for i in range(watermark_len):\n",
        "    # perm_watermark_bits[i] = watermark_bits[i]\n",
        "    perm_watermark_bits[i] = watermark_bits[permutation_map[i]]\n",
        "    inv_permutation_map[permutation_map[i]] = i\n",
        "bool_watermark_bits = [True if perm_watermark_bits[i] else False for i in range(watermark_len)]"
      ],
      "metadata": {
        "id": "h76vi3MEV4kM"
      },
      "execution_count": 12,
      "outputs": []
    },
    {
      "cell_type": "code",
      "source": [
        "def set_bit(bit, val):\n",
        "  return val | mask if bit else val & (255 - mask)\n",
        "  # return (val | mask)*bit + (1-bit)*(val & (255 - mask))\n",
        "def extract_bit(val):\n",
        "  return (val & mask) == mask"
      ],
      "metadata": {
        "id": "YkZ5Cxp0TGb1"
      },
      "execution_count": 13,
      "outputs": []
    },
    {
      "cell_type": "code",
      "source": [
        "def set_bit_encrypted(bit, val):\n",
        "  return fhe.multivariate(set_bit)(bit, val)\n",
        "def extract_bit_encrypted(val):\n",
        "  return fhe.univariate(extract_bit)(val)"
      ],
      "metadata": {
        "id": "KMDLuNzmXCgZ"
      },
      "execution_count": 14,
      "outputs": []
    },
    {
      "cell_type": "code",
      "source": [
        "inputset = [(True if np.random.randint(0, 2) else False, np.random.randint(0, 256)) for _ in range(100)]"
      ],
      "metadata": {
        "id": "MtWh_BfDXF0n"
      },
      "execution_count": 50,
      "outputs": []
    },
    {
      "cell_type": "code",
      "source": [
        "configuration = fhe.Configuration(p_error=0.01, dataflow_parallelize=True)\n",
        "encoder_compiler = fhe.Compiler(set_bit_encrypted, {\"bit\": \"encrypted\", \"val\": \"encrypted\"})\n",
        "encoder_circuit = encoder_compiler.compile(inputset, configuration=configuration, loop_parallelize=True)"
      ],
      "metadata": {
        "id": "f4eWkTDcXMnM"
      },
      "execution_count": 51,
      "outputs": []
    },
    {
      "cell_type": "code",
      "source": [
        "watermarked_img = deepcopy(img)\n",
        "\n",
        "start_time = time.time()\n",
        "for i in range(l):\n",
        "    print(f\"Iteration : {i+1}\")\n",
        "    for j in range(b):\n",
        "      watermarked_img[i][j][index] = encoder_circuit.encrypt_run_decrypt(bool_watermark_bits[i*b+j], img[i][j][index])\n",
        "end_time = time.time()"
      ],
      "metadata": {
        "colab": {
          "base_uri": "https://localhost:8080/"
        },
        "collapsed": true,
        "id": "Mw6Sr6jnXdgg",
        "outputId": "184a945c-cf92-46c2-b313-5c2d0c384c7e"
      },
      "execution_count": 52,
      "outputs": [
        {
          "output_type": "stream",
          "name": "stdout",
          "text": [
            "Iteration : 1\n",
            "Iteration : 2\n",
            "Iteration : 3\n",
            "Iteration : 4\n",
            "Iteration : 5\n",
            "Iteration : 6\n",
            "Iteration : 7\n",
            "Iteration : 8\n",
            "Iteration : 9\n",
            "Iteration : 10\n",
            "Iteration : 11\n",
            "Iteration : 12\n",
            "Iteration : 13\n",
            "Iteration : 14\n",
            "Iteration : 15\n",
            "Iteration : 16\n",
            "Iteration : 17\n",
            "Iteration : 18\n",
            "Iteration : 19\n",
            "Iteration : 20\n",
            "Iteration : 21\n",
            "Iteration : 22\n",
            "Iteration : 23\n",
            "Iteration : 24\n",
            "Iteration : 25\n",
            "Iteration : 26\n",
            "Iteration : 27\n",
            "Iteration : 28\n",
            "Iteration : 29\n",
            "Iteration : 30\n",
            "Iteration : 31\n",
            "Iteration : 32\n"
          ]
        }
      ]
    },
    {
      "cell_type": "code",
      "source": [
        "print(f\"Total time taken = {(end_time-start_time)/60} minutes\")\n",
        "print(f\"PSNR after embedding watermark = {cv2.PSNR(watermarked_img, img)}\")\n",
        "watermarked_img_path = f\"/content/sample_data/watermarked_image_{cifar_ind}.png\"\n",
        "cv2.imwrite(watermarked_img_path, watermarked_img)"
      ],
      "metadata": {
        "colab": {
          "base_uri": "https://localhost:8080/"
        },
        "id": "wLXJtnzaZU9U",
        "outputId": "fe954b18-6992-4ae4-b85f-4b9d21b3381a"
      },
      "execution_count": 54,
      "outputs": [
        {
          "output_type": "stream",
          "name": "stdout",
          "text": [
            "Total time taken = 73.45678718884785 minutes\n",
            "PSNR after embedding watermark = 33.16546193858141\n"
          ]
        },
        {
          "output_type": "execute_result",
          "data": {
            "text/plain": [
              "True"
            ]
          },
          "metadata": {},
          "execution_count": 54
        }
      ]
    },
    {
      "cell_type": "code",
      "source": [
        "print(watermarked_img[:,:,index])"
      ],
      "metadata": {
        "colab": {
          "base_uri": "https://localhost:8080/"
        },
        "id": "7Zq1NZBDAh2X",
        "outputId": "e5d27eef-88b4-4a45-d3ad-5c25f27b4650"
      },
      "execution_count": 41,
      "outputs": [
        {
          "output_type": "stream",
          "name": "stdout",
          "text": [
            "[[246 247 252 ... 194 247 246]\n",
            " [241 245 255 ... 231 245 247]\n",
            " [246 244 253 ... 252 255 245]\n",
            " ...\n",
            " [143  97  83 ... 247 254 246]\n",
            " [143  99  96 ... 255 246 254]\n",
            " [215 183 220 ... 255 254 246]]\n"
          ]
        }
      ]
    },
    {
      "cell_type": "code",
      "source": [
        "plt.subplot(1, 2, 1)\n",
        "plt.imshow(img)\n",
        "plt.axis('off')\n",
        "plt.title(\"Original Image\")\n",
        "\n",
        "plt.subplot(1, 2, 2)\n",
        "plt.imshow(watermarked_img)\n",
        "plt.axis('off')\n",
        "plt.title(\"Image Embedded with watermark\")\n",
        "\n",
        "plt.show()"
      ],
      "metadata": {
        "colab": {
          "base_uri": "https://localhost:8080/",
          "height": 284
        },
        "id": "ar2IsM5FZ6kK",
        "outputId": "ea16de32-bc33-4faf-f53f-0b29bc73d813"
      },
      "execution_count": 42,
      "outputs": [
        {
          "output_type": "display_data",
          "data": {
            "text/plain": [
              "<Figure size 640x480 with 2 Axes>"
            ],
            "image/png": "[encoded data removed]"
          },
          "metadata": {}
        }
      ]
    },
    {
      "cell_type": "code",
      "source": [
        "watermarked_img = read_image(watermarked_img_path)"
      ],
      "metadata": {
        "id": "DGNBejwneYl0"
      },
      "execution_count": 43,
      "outputs": []
    },
    {
      "cell_type": "code",
      "source": [
        "inputset = [(np.random.randint(0, 256)) for _ in range(100)]"
      ],
      "metadata": {
        "id": "qGQnMhhRpHzk"
      },
      "execution_count": 55,
      "outputs": []
    },
    {
      "cell_type": "code",
      "source": [
        "decoder_compiler = fhe.Compiler(extract_bit_encrypted, {\"val\": \"encrypted\"})\n",
        "decoder_circuit = decoder_compiler.compile(inputset, configuration=configuration, loop_parallelize=True)"
      ],
      "metadata": {
        "id": "N8VaRMNuuGRc"
      },
      "execution_count": 56,
      "outputs": []
    },
    {
      "cell_type": "code",
      "source": [
        "decoded_bits = []\n",
        "\n",
        "start_time = time.time()\n",
        "for i in range(l):\n",
        "    print(f\"Iteration : {i+1}\")\n",
        "    for j in range(b):\n",
        "      decoded_bits.append(decoder_circuit.encrypt_run_decrypt(watermarked_img[i][j][index]))\n",
        "end_time = time.time()"
      ],
      "metadata": {
        "colab": {
          "base_uri": "https://localhost:8080/"
        },
        "collapsed": true,
        "id": "ZX4QoTXzugvG",
        "outputId": "7906e5b9-4712-466f-833f-14521837096d"
      },
      "execution_count": 57,
      "outputs": [
        {
          "output_type": "stream",
          "name": "stdout",
          "text": [
            "Iteration : 1\n",
            "Iteration : 2\n",
            "Iteration : 3\n",
            "Iteration : 4\n",
            "Iteration : 5\n",
            "Iteration : 6\n",
            "Iteration : 7\n",
            "Iteration : 8\n",
            "Iteration : 9\n",
            "Iteration : 10\n",
            "Iteration : 11\n",
            "Iteration : 12\n",
            "Iteration : 13\n",
            "Iteration : 14\n",
            "Iteration : 15\n",
            "Iteration : 16\n",
            "Iteration : 17\n",
            "Iteration : 18\n",
            "Iteration : 19\n",
            "Iteration : 20\n",
            "Iteration : 21\n",
            "Iteration : 22\n",
            "Iteration : 23\n",
            "Iteration : 24\n",
            "Iteration : 25\n",
            "Iteration : 26\n",
            "Iteration : 27\n",
            "Iteration : 28\n",
            "Iteration : 29\n",
            "Iteration : 30\n",
            "Iteration : 31\n",
            "Iteration : 32\n"
          ]
        }
      ]
    },
    {
      "cell_type": "code",
      "source": [
        "print(f\"Total time taken = {(end_time-start_time)/60} minutes\")"
      ],
      "metadata": {
        "colab": {
          "base_uri": "https://localhost:8080/"
        },
        "id": "GxYmoiGAvR2P",
        "outputId": "fff9750c-4811-46ab-8e9c-d8ab7931797f"
      },
      "execution_count": 58,
      "outputs": [
        {
          "output_type": "stream",
          "name": "stdout",
          "text": [
            "Total time taken = 19.743716752529146 minutes\n"
          ]
        }
      ]
    },
    {
      "cell_type": "code",
      "source": [
        "def bin_str_to_bytes(bin_str):\n",
        "    return bytes(int(bin_str[i:i+8], 2) for i in range(0, len(bin_str), 8)).decode('ISO-8859-1')\n",
        "\n",
        "def decode_repeated_bits(bits, factor):\n",
        "\n",
        "    def bit_count(bit):\n",
        "        return sum([1 for i in range(bit.bit_length()) if bit & (1 << i)])\n",
        "\n",
        "    result_bits = ''\n",
        "    for i in range(0, len(bits), factor):\n",
        "        bit_block = bits[i:min(i+factor, len(bits))]\n",
        "        result_bits += '1' if sum(bit_block) > factor//2 else '0'\n",
        "\n",
        "    return result_bits"
      ],
      "metadata": {
        "id": "NL69pBVlx_s2"
      },
      "execution_count": 257,
      "outputs": []
    },
    {
      "cell_type": "code",
      "source": [
        "print(mask)"
      ],
      "metadata": {
        "colab": {
          "base_uri": "https://localhost:8080/"
        },
        "id": "ESnl7WTT7fNO",
        "outputId": "dc41ff80-1b71-4f2f-9626-48634432a189"
      },
      "execution_count": 42,
      "outputs": [
        {
          "output_type": "stream",
          "name": "stdout",
          "text": [
            "8\n"
          ]
        }
      ]
    },
    {
      "cell_type": "code",
      "source": [
        "decoded_bits = []\n",
        "for i in range(l):\n",
        "    # print(f\"i : {i}\")\n",
        "    # print(watermarked_img[i, :, index])\n",
        "    for j in range(b):\n",
        "      decoded_bits.append(extract_bit(watermarked_img[i][j][index]))"
      ],
      "metadata": {
        "collapsed": true,
        "id": "TWvBCo2G4yUM"
      },
      "execution_count": 187,
      "outputs": []
    },
    {
      "cell_type": "code",
      "source": [
        "decoded_bits = [1 if decoded_bits[i] else 0 for i in range(watermark_len)]\n",
        "inv_perm_watermark_bits = np.zeros(watermark_len, dtype=int)\n",
        "for i in range(watermark_len):\n",
        "    inv_perm_watermark_bits[i] = decoded_bits[inv_permutation_map[i]]"
      ],
      "metadata": {
        "id": "BrFHK5cVvdtu"
      },
      "execution_count": 59,
      "outputs": []
    },
    {
      "cell_type": "code",
      "source": [
        "def get_decoded_watermark(decoded_bits):\n",
        "  decoded_bits = [1 if decoded_bits[i] else 0 for i in range(watermark_len)]\n",
        "  inv_perm_watermark_bits = np.zeros(watermark_len, dtype=int)\n",
        "  for i in range(watermark_len):\n",
        "      inv_perm_watermark_bits[i] = decoded_bits[inv_permutation_map[i]]\n",
        "  decoded_watermark_bits = decode_repeated_bits(inv_perm_watermark_bits, repetition_len)\n",
        "\n",
        "  return bin_str_to_bytes(decoded_watermark_bits)"
      ],
      "metadata": {
        "id": "1Jsdlc5dvlC9"
      },
      "execution_count": 185,
      "outputs": []
    },
    {
      "cell_type": "code",
      "source": [
        "print(''.join([str(i) for i in decoded_bits]))"
      ],
      "metadata": {
        "colab": {
          "base_uri": "https://localhost:8080/"
        },
        "id": "NBFPv9lW_qbc",
        "outputId": "c5829de6-605b-4c4a-f39c-dfe0821afa33"
      },
      "execution_count": 46,
      "outputs": [
        {
          "output_type": "stream",
          "name": "stdout",
          "text": [
            "0011010111011000001101101000100000101111011010000000010000111000001010010100100000000010010011100000001000001011011101010100010000010001110100111000011111110111000100010101101110010011001111000000101001111001000110110000111101011000011010001010000001010011100001000101101000000011110000100010001011000101000001000101000110101101100000110011001010010100010011101000011000000000011000001010011110001100110111010110100011010001110001011011001001111000010111010001101010111010101100000000010001000111100000000100110011101011000010001000001100011001011111011100000011011000000100000111010010100000101100000001011000110110100100100011010110011001011001010000110010010010010101110001001100100100000000010111010100000101010101011000001100000001010111100001110000110110111100010100000001000101000000000110100000101000100010100111001010101100000010110110011100000111000011010101100001000000010001000001011111011110111001000000100110010000100000100100001100110000000100101001001010100000001000100110110100100011100010101100010011101110\n"
          ]
        }
      ]
    },
    {
      "cell_type": "code",
      "source": [
        "print(''.join([str(i) for i in inv_perm_watermark_bits]))"
      ],
      "metadata": {
        "colab": {
          "base_uri": "https://localhost:8080/"
        },
        "id": "Dx65vWk-5Nxi",
        "outputId": "2e46f49c-f14e-49d4-f6d7-54258d7bab82"
      },
      "execution_count": 47,
      "outputs": [
        {
          "output_type": "stream",
          "name": "stdout",
          "text": [
            "0000111100000000000000000000111100000000111100000000000000000000000011111111111100001111111111110000111111110000000000000000111100001111111111110000111100000000000011111111000000001111000011110000111111111111000000001111000000001111111100001111111100001111000011111111000000000000000011110000111111111111000000001111000000001111111100001111000011111111000000001111000000000000000000000000111111110000000011111111000000001111111100001111111111111111000011111111111100000000111100000000000011110000000000000000000000001111111111111111000011110000000011111111000000000000000011110000111111110000111111110000111100001111111100000000000000001111000000001111000000000000000000000000111111110000000000001111000000001111111100001111111111111111000011111111111100001111000011110000111111110000111111111111000000001111111111110000111100000000000011111111111111110000000011110000000000000000000000000000000000000000000000000000000000000000000000000000000000000000000000000000000000000000000000000000000000000000000000000000000000000000\n"
          ]
        }
      ]
    },
    {
      "cell_type": "code",
      "source": [
        "print(''.join([str(i) for i in perm_watermark_bits]))"
      ],
      "metadata": {
        "colab": {
          "base_uri": "https://localhost:8080/"
        },
        "id": "CpDkbxdj_C4-",
        "outputId": "b3e5c373-c23a-45b3-9824-445ece373921"
      },
      "execution_count": 34,
      "outputs": [
        {
          "output_type": "stream",
          "name": "stdout",
          "text": [
            "0011010111011000001101101000100000101111011010000000010000111000001010010100100000000010010011100000001000001011011101010100010000010001110100111000011111110111000100010101101110010011001111000000101001111001000110110000111101011000011010001010000001010011100001000101101000000011110000100010001011000101000001000101000110101101100000110011001010010100010011101000011000000000011000001010011110001100110111010110100011010001110001011011001001111000010111010001101010111010101100000000010001000111100000000100110011101011000010001000001100011001011111011100000011011000000100000111010010100000101100000001011000110110100100100011010110011001011001010000110010010010010101110001001100100100000000010111010100000101010101011000001100000001010111100001110000110110111100010100000001000101000000000110100000101000100010100111001010101100000010110110011100000111000011010101100001000000010001000001011111011110111001000000100110010000100000100100001100110000000100101001001010100000001000100110110100100011100010101100010011101110\n"
          ]
        }
      ]
    },
    {
      "cell_type": "code",
      "source": [
        "print(''.join([str(i) for i in watermark_bits]))"
      ],
      "metadata": {
        "colab": {
          "base_uri": "https://localhost:8080/"
        },
        "id": "ty3EPHSq6gOr",
        "outputId": "567ef247-d038-413c-ae79-7e0a705885b4"
      },
      "execution_count": 35,
      "outputs": [
        {
          "output_type": "stream",
          "name": "stdout",
          "text": [
            "0000111100000000000000000000111100000000111100000000000000000000000011111111111100001111111111110000111111110000000000000000111100001111111111110000111100000000000011111111000000001111000011110000111111111111000000001111000000001111111100001111111100001111000011111111000000000000000011110000111111111111000000001111000000001111111100001111000011111111000000001111000000000000000000000000111111110000000011111111000000001111111100001111111111111111000011111111111100000000111100000000000011110000000000000000000000001111111111111111000011110000000011111111000000000000000011110000111111110000111111110000111100001111111100000000000000001111000000001111000000000000000000000000111111110000000000001111000000001111111100001111111111111111000011111111111100001111000011110000111111110000111111111111000000001111111111110000111100000000000011111111111111110000000011110000000000000000000000000000000000000000000000000000000000000000000000000000000000000000000000000000000000000000000000000000000000000000000000000000000000000000\n"
          ]
        }
      ]
    },
    {
      "cell_type": "code",
      "source": [
        "decoded_watermark_bits = decode_repeated_bits(inv_perm_watermark_bits, repetition_len)\n",
        "decoded_watermark = bin_str_to_bytes(decoded_watermark_bits)"
      ],
      "metadata": {
        "id": "x-GpluzsyLOf"
      },
      "execution_count": 60,
      "outputs": []
    },
    {
      "cell_type": "code",
      "source": [
        "print(f\"Decoded watermark = {get_decoded_watermark(decoded_bits)}\")"
      ],
      "metadata": {
        "colab": {
          "base_uri": "https://localhost:8080/"
        },
        "id": "dwFEJrxeywpk",
        "outputId": "886d2603-1fdc-4b81-8454-6f4f99644b84"
      },
      "execution_count": 188,
      "outputs": [
        {
          "output_type": "stream",
          "name": "stdout",
          "text": [
            "Decoded watermark = A watermark for zama bounty\u0000\u0000\u0000\u0000\u0000\n"
          ]
        }
      ]
    },
    {
      "cell_type": "markdown",
      "source": [
        "## Performance on distortions/attacks on watermarked image"
      ],
      "metadata": {
        "id": "RFrkmPbLzL8P"
      }
    },
    {
      "cell_type": "markdown",
      "source": [
        "### JPEG Compression"
      ],
      "metadata": {
        "id": "87GbuNNZ0alr"
      }
    },
    {
      "cell_type": "code",
      "source": [
        "def compress_image(img, quality=90):\n",
        "\n",
        "    # Encode the image with JPEG compression\n",
        "    encode_param = [int(cv2.IMWRITE_JPEG_QUALITY), quality]\n",
        "    _, encoded_img = cv2.imencode('.jpg', img, encode_param)\n",
        "\n",
        "    # Decode the compressed image\n",
        "    decoded_img = cv2.imdecode(encoded_img, cv2.IMREAD_COLOR)\n",
        "\n",
        "    return decoded_img"
      ],
      "metadata": {
        "id": "L49iEksU0gqX"
      },
      "execution_count": 89,
      "outputs": []
    },
    {
      "cell_type": "code",
      "source": [
        "watermarked_img = read_image(watermarked_img_path)\n",
        "compressed_img = compress_image(watermarked_img, quality=90)\n",
        "print(f\"PSNR after compression = {cv2.PSNR(compressed_img, watermarked_img)}\")"
      ],
      "metadata": {
        "colab": {
          "base_uri": "https://localhost:8080/"
        },
        "id": "FK8YQGg9s2l1",
        "outputId": "d192c697-5fc8-454c-bf87-d1bda16e5cae"
      },
      "execution_count": 90,
      "outputs": [
        {
          "output_type": "stream",
          "name": "stdout",
          "text": [
            "PSNR after compression = 33.42999639495253\n"
          ]
        }
      ]
    },
    {
      "cell_type": "code",
      "source": [
        "decoded_bits = []\n",
        "for i in range(l):\n",
        "    # print(f\"i : {i}\")\n",
        "    for j in range(b):\n",
        "      decoded_bits.append(extract_bit(compressed_img[i][j][index]))"
      ],
      "metadata": {
        "id": "hSiiDXMcs_Wl"
      },
      "execution_count": 91,
      "outputs": []
    },
    {
      "cell_type": "code",
      "source": [
        "decoded_bits = [1 if decoded_bits[i] else 0 for i in range(watermark_len)]\n",
        "inv_perm_watermark_bits = np.zeros(watermark_len, dtype=int)\n",
        "for i in range(watermark_len):\n",
        "    inv_perm_watermark_bits[i] = decoded_bits[inv_permutation_map[i]]\n",
        "\n",
        "decoded_watermark_bits = decode_repeated_bits(inv_perm_watermark_bits, repetition_len)\n",
        "decoded_watermark = bin_str_to_bytes(decoded_watermark_bits)"
      ],
      "metadata": {
        "colab": {
          "base_uri": "https://localhost:8080/",
          "height": 305
        },
        "id": "dGDB0dwYtF5o",
        "outputId": "21e41ee6-d4e8-4e54-e45f-e57e9acd20c3"
      },
      "execution_count": 94,
      "outputs": [
        {
          "output_type": "error",
          "ename": "UnicodeDecodeError",
          "evalue": "'utf-8' codec can't decode byte 0xf4 in position 2: invalid continuation byte",
          "traceback": [
            "\u001b[0;31m---------------------------------------------------------------------------\u001b[0m",
            "\u001b[0;31mUnicodeDecodeError\u001b[0m                        Traceback (most recent call last)",
            "\u001b[0;32m<ipython-input-94-7bdf93745006>\u001b[0m in \u001b[0;36m<cell line: 0>\u001b[0;34m()\u001b[0m\n\u001b[1;32m      5\u001b[0m \u001b[0;34m\u001b[0m\u001b[0m\n\u001b[1;32m      6\u001b[0m \u001b[0mdecoded_watermark_bits\u001b[0m \u001b[0;34m=\u001b[0m \u001b[0mdecode_repeated_bits\u001b[0m\u001b[0;34m(\u001b[0m\u001b[0minv_perm_watermark_bits\u001b[0m\u001b[0;34m,\u001b[0m \u001b[0mrepetition_len\u001b[0m\u001b[0;34m)\u001b[0m\u001b[0;34m\u001b[0m\u001b[0;34m\u001b[0m\u001b[0m\n\u001b[0;32m----> 7\u001b[0;31m \u001b[0mdecoded_watermark\u001b[0m \u001b[0;34m=\u001b[0m \u001b[0mbin_str_to_bytes\u001b[0m\u001b[0;34m(\u001b[0m\u001b[0mdecoded_watermark_bits\u001b[0m\u001b[0;34m)\u001b[0m\u001b[0;34m\u001b[0m\u001b[0;34m\u001b[0m\u001b[0m\n\u001b[0m",
            "\u001b[0;32m<ipython-input-19-ea732081a14d>\u001b[0m in \u001b[0;36mbin_str_to_bytes\u001b[0;34m(bin_str)\u001b[0m\n\u001b[1;32m      1\u001b[0m \u001b[0;32mdef\u001b[0m \u001b[0mbin_str_to_bytes\u001b[0m\u001b[0;34m(\u001b[0m\u001b[0mbin_str\u001b[0m\u001b[0;34m)\u001b[0m\u001b[0;34m:\u001b[0m\u001b[0;34m\u001b[0m\u001b[0;34m\u001b[0m\u001b[0m\n\u001b[0;32m----> 2\u001b[0;31m     \u001b[0;32mreturn\u001b[0m \u001b[0mbytes\u001b[0m\u001b[0;34m(\u001b[0m\u001b[0mint\u001b[0m\u001b[0;34m(\u001b[0m\u001b[0mbin_str\u001b[0m\u001b[0;34m[\u001b[0m\u001b[0mi\u001b[0m\u001b[0;34m:\u001b[0m\u001b[0mi\u001b[0m\u001b[0;34m+\u001b[0m\u001b[0;36m8\u001b[0m\u001b[0;34m]\u001b[0m\u001b[0;34m,\u001b[0m \u001b[0;36m2\u001b[0m\u001b[0;34m)\u001b[0m \u001b[0;32mfor\u001b[0m \u001b[0mi\u001b[0m \u001b[0;32min\u001b[0m \u001b[0mrange\u001b[0m\u001b[0;34m(\u001b[0m\u001b[0;36m0\u001b[0m\u001b[0;34m,\u001b[0m \u001b[0mlen\u001b[0m\u001b[0;34m(\u001b[0m\u001b[0mbin_str\u001b[0m\u001b[0;34m)\u001b[0m\u001b[0;34m,\u001b[0m \u001b[0;36m8\u001b[0m\u001b[0;34m)\u001b[0m\u001b[0;34m)\u001b[0m\u001b[0;34m.\u001b[0m\u001b[0mdecode\u001b[0m\u001b[0;34m(\u001b[0m\u001b[0;34m'utf-8'\u001b[0m\u001b[0;34m)\u001b[0m\u001b[0;34m\u001b[0m\u001b[0;34m\u001b[0m\u001b[0m\n\u001b[0m\u001b[1;32m      3\u001b[0m \u001b[0;34m\u001b[0m\u001b[0m\n\u001b[1;32m      4\u001b[0m \u001b[0;32mdef\u001b[0m \u001b[0mdecode_repeated_bits\u001b[0m\u001b[0;34m(\u001b[0m\u001b[0mbits\u001b[0m\u001b[0;34m,\u001b[0m \u001b[0mfactor\u001b[0m\u001b[0;34m)\u001b[0m\u001b[0;34m:\u001b[0m\u001b[0;34m\u001b[0m\u001b[0;34m\u001b[0m\u001b[0m\n\u001b[1;32m      5\u001b[0m \u001b[0;34m\u001b[0m\u001b[0m\n",
            "\u001b[0;31mUnicodeDecodeError\u001b[0m: 'utf-8' codec can't decode byte 0xf4 in position 2: invalid continuation byte"
          ]
        }
      ]
    },
    {
      "cell_type": "code",
      "source": [
        "print(f\"Decoded watermark = {get_decoded_watermark(decoded_bits)}\")"
      ],
      "metadata": {
        "colab": {
          "base_uri": "https://localhost:8080/"
        },
        "id": "85tqqi5CtGLy",
        "outputId": "07b42f1d-7505-4f6b-a527-a81aec4570a3"
      },
      "execution_count": 93,
      "outputs": [
        {
          "output_type": "stream",
          "name": "stdout",
          "text": [
            "Decoded watermark = A watermark for zama bounty\u0000\u0000\u0000\u0000\u0000\n"
          ]
        }
      ]
    },
    {
      "cell_type": "markdown",
      "source": [
        "### Noise"
      ],
      "metadata": {
        "id": "Y_Jx3rZUz_vD"
      }
    },
    {
      "cell_type": "code",
      "source": [
        "def add_gaussian_noise(image, mean=0, std=1):\n",
        "    noise = np.abs(np.random.normal(mean, std, image.shape)).astype(np.uint8)\n",
        "    noisy_image = cv2.add(image, noise)\n",
        "    return noisy_image, noise"
      ],
      "metadata": {
        "id": "3jwaQSDpzLUG"
      },
      "execution_count": 178,
      "outputs": []
    },
    {
      "cell_type": "code",
      "source": [
        "watermarked_img = read_image(watermarked_img_path)\n",
        "noisy_watermarked_img, noise = add_gaussian_noise(watermarked_img)\n",
        "print(f\"PSNR after adding noise = {cv2.PSNR(noisy_watermarked_img, img)}\")"
      ],
      "metadata": {
        "colab": {
          "base_uri": "https://localhost:8080/"
        },
        "id": "_6phHE2zOhmm",
        "outputId": "07ee5d23-f2cf-4050-a324-75bb8c4dbc35"
      },
      "execution_count": 263,
      "outputs": [
        {
          "output_type": "stream",
          "name": "stdout",
          "text": [
            "PSNR after adding noise = 33.200027964119116\n"
          ]
        }
      ]
    },
    {
      "cell_type": "code",
      "source": [
        "fig, axes = plt.subplots(1, 2, figsize=(15, 5))\n",
        "\n",
        "axes[0].imshow(img)\n",
        "axes[0].set_title(\"Original Image\")\n",
        "axes[0].axis('off')\n",
        "\n",
        "# axes[1].imshow(noise)\n",
        "# axes[1].set_title(\"Gaussian Noise\")\n",
        "# axes[1].axis('off')\n",
        "\n",
        "axes[1].imshow(noisy_watermarked_img)\n",
        "axes[1].set_title(\"Watermarked Image with Noise\")\n",
        "axes[1].axis('off')\n",
        "\n",
        "plt.tight_layout(w_pad=3)\n",
        "\n",
        "plt.show()"
      ],
      "metadata": {
        "colab": {
          "base_uri": "https://localhost:8080/",
          "height": 507
        },
        "id": "eChtS_jQp-LC",
        "outputId": "e97cc491-92f6-4d7a-f997-64dbbb0aa98a"
      },
      "execution_count": 264,
      "outputs": [
        {
          "output_type": "display_data",
          "data": {
            "text/plain": [
              "<Figure size 1500x500 with 2 Axes>"
            ],
            "image/png": "[encoded data removed]"
          },
          "metadata": {}
        }
      ]
    },
    {
      "cell_type": "code",
      "source": [
        "decoded_bits = []\n",
        "\n",
        "start_time = time.time()\n",
        "for i in range(l):\n",
        "    print(f\"Iteration : {i+1}\")\n",
        "    for j in range(b):\n",
        "      decoded_bits.append(decoder_circuit.encrypt_run_decrypt(watermarked_img[i][j][index]))\n",
        "end_time = time.time()"
      ],
      "metadata": {
        "colab": {
          "base_uri": "https://localhost:8080/"
        },
        "id": "OlHTFswI1mQ4",
        "outputId": "1c909c0b-7885-4c35-cec9-0e076c4c9afd"
      },
      "execution_count": null,
      "outputs": [
        {
          "output_type": "stream",
          "name": "stdout",
          "text": [
            "Iteration : 1\n"
          ]
        }
      ]
    },
    {
      "cell_type": "code",
      "source": [
        "decoded_bits = []\n",
        "for i in range(l):\n",
        "    # print(f\"i : {i}\")\n",
        "    for j in range(b):\n",
        "      decoded_bits.append(extract_bit(noisy_watermarked_img[i][j][index]))"
      ],
      "metadata": {
        "id": "4je3IlH3pqQ9"
      },
      "execution_count": 193,
      "outputs": []
    },
    {
      "cell_type": "code",
      "source": [
        "decoded_bits = [1 if decoded_bits[i] else 0 for i in range(watermark_len)]\n",
        "inv_perm_watermark_bits = np.zeros(watermark_len, dtype=int)\n",
        "for i in range(watermark_len):\n",
        "    inv_perm_watermark_bits[i] = decoded_bits[inv_permutation_map[i]]\n",
        "decoded_watermark_bits = decode_repeated_bits(inv_perm_watermark_bits, repetition_len)\n",
        "decoded_watermark = bin_str_to_bytes(decoded_watermark_bits)"
      ],
      "metadata": {
        "id": "9nLnB-k5psqi"
      },
      "execution_count": 194,
      "outputs": []
    },
    {
      "cell_type": "code",
      "source": [
        "print(f\"Decoded watermark = {get_decoded_watermark(decoded_bits)}\")"
      ],
      "metadata": {
        "colab": {
          "base_uri": "https://localhost:8080/"
        },
        "id": "B_UH9-tvpwk3",
        "outputId": "7a2042b8-6675-402d-cc6e-8072e251ce5c"
      },
      "execution_count": 195,
      "outputs": [
        {
          "output_type": "stream",
          "name": "stdout",
          "text": [
            "Decoded watermark = A watermark for zama b/unty\u0000\u0000\u0000\u0000\u0000\n"
          ]
        }
      ]
    },
    {
      "cell_type": "markdown",
      "source": [
        "### Brightness"
      ],
      "metadata": {
        "id": "b7NkD3Pb0Dt0"
      }
    },
    {
      "cell_type": "code",
      "source": [
        "watermarked_img = read_image(watermarked_img_path)\n",
        "brightness = 1.5\n",
        "contrast = 1.0\n",
        "weighted_watermarked_img = cv2.addWeighted(watermarked_img, contrast, np.zeros(watermarked_img.shape, watermarked_img.dtype), 0, brightness)\n",
        "print(f\"PSNR after adding noise = {cv2.PSNR(weighted_watermarked_img, img)}\")"
      ],
      "metadata": {
        "colab": {
          "base_uri": "https://localhost:8080/"
        },
        "id": "qXMyu2_y0HUL",
        "outputId": "1c92866f-827c-47bc-8eb8-7bdb5de262f4"
      },
      "execution_count": 253,
      "outputs": [
        {
          "output_type": "stream",
          "name": "stdout",
          "text": [
            "PSNR after adding noise = 33.234047173253636\n"
          ]
        }
      ]
    },
    {
      "cell_type": "code",
      "source": [
        "fig, axes = plt.subplots(1, 2, figsize=(15, 5))\n",
        "\n",
        "axes[0].imshow(img)\n",
        "axes[0].set_title(\"Original Image\")\n",
        "axes[0].axis('off')\n",
        "\n",
        "# axes[1].imshow(noise)\n",
        "# axes[1].set_title(\"Gaussian Noise\")\n",
        "# axes[1].axis('off')\n",
        "\n",
        "axes[1].imshow(weighted_watermarked_img)\n",
        "axes[1].set_title(\"Watermarked Image with modified Brightness and Contrast\")\n",
        "axes[1].axis('off')\n",
        "\n",
        "plt.tight_layout(w_pad=3)\n",
        "\n",
        "plt.show()"
      ],
      "metadata": {
        "colab": {
          "base_uri": "https://localhost:8080/",
          "height": 507
        },
        "id": "6iCsqh_az9R3",
        "outputId": "9418ede5-d35d-4b90-b078-4eb05cefe4d7"
      },
      "execution_count": 254,
      "outputs": [
        {
          "output_type": "display_data",
          "data": {
            "text/plain": [
              "<Figure size 1500x500 with 2 Axes>"
            ],
            "image/png": "[encoded data removed]"
          },
          "metadata": {}
        }
      ]
    },
    {
      "cell_type": "code",
      "source": [
        "decoded_bits = []\n",
        "for i in range(l):\n",
        "    # print(f\"i : {i}\")\n",
        "    for j in range(b):\n",
        "      decoded_bits.append(extract_bit(weighted_watermarked_img[i][j][index]))"
      ],
      "metadata": {
        "id": "MkuZtNzp0LPN"
      },
      "execution_count": 255,
      "outputs": []
    },
    {
      "cell_type": "code",
      "source": [
        "print(f\"Decoded watermark = {get_decoded_watermark(decoded_bits)}\")"
      ],
      "metadata": {
        "colab": {
          "base_uri": "https://localhost:8080/"
        },
        "id": "M-CdeLwk0MZ9",
        "outputId": "e497581d-f97c-4ba2-a174-d246fda26b5d"
      },
      "execution_count": 258,
      "outputs": [
        {
          "output_type": "stream",
          "name": "stdout",
          "text": [
            "Decoded watermark = R${`vmz¡ár}¬ãov{áåa`r/wnôy\u0001\u0000\u00040\n"
          ]
        }
      ]
    },
    {
      "cell_type": "markdown",
      "source": [
        "### Gaussian Blur"
      ],
      "metadata": {
        "id": "9-85Met80HyD"
      }
    },
    {
      "cell_type": "code",
      "source": [
        "watermarked_img = read_image(watermarked_img_path)\n",
        "blur_watermarked_img = cv2.GaussianBlur(watermarked_img, (1, 1), 0)\n",
        "print(f\"PSNR after gaussian blur = {cv2.PSNR(blur_watermarked_img, img)}\")"
      ],
      "metadata": {
        "colab": {
          "base_uri": "https://localhost:8080/"
        },
        "id": "Kq8p24-20Q9q",
        "outputId": "68aa8c7f-efa5-4357-ef51-a56cda4c673d"
      },
      "execution_count": 259,
      "outputs": [
        {
          "output_type": "stream",
          "name": "stdout",
          "text": [
            "PSNR after gaussian blur = 33.16546193858141\n"
          ]
        }
      ]
    },
    {
      "cell_type": "code",
      "source": [
        "fig, axes = plt.subplots(1, 2, figsize=(15, 5))\n",
        "\n",
        "axes[0].imshow(img)\n",
        "axes[0].set_title(\"Original Image\")\n",
        "axes[0].axis('off')\n",
        "\n",
        "# axes[1].imshow(noise)\n",
        "# axes[1].set_title(\"Gaussian Noise\")\n",
        "# axes[1].axis('off')\n",
        "\n",
        "axes[1].imshow(blur_watermarked_img)\n",
        "axes[1].set_title(\"Watermarked Image with Gaussian Blur\")\n",
        "axes[1].axis('off')\n",
        "\n",
        "plt.tight_layout(w_pad=3)\n",
        "\n",
        "plt.show()"
      ],
      "metadata": {
        "colab": {
          "base_uri": "https://localhost:8080/",
          "height": 507
        },
        "id": "J_GrXTh2xzBG",
        "outputId": "9a54985c-26cc-4be8-ef42-45cdb4cabeff"
      },
      "execution_count": 260,
      "outputs": [
        {
          "output_type": "display_data",
          "data": {
            "text/plain": [
              "<Figure size 1500x500 with 2 Axes>"
            ],
            "image/png": "[encoded data removed]"
          },
          "metadata": {}
        }
      ]
    },
    {
      "cell_type": "code",
      "source": [
        "decoded_bits = []\n",
        "for i in range(l):\n",
        "    # print(f\"i : {i}\")\n",
        "    for j in range(b):\n",
        "      decoded_bits.append(extract_bit(blur_watermarked_img[i][j][index]))"
      ],
      "metadata": {
        "id": "4ekuogJ9yWQV"
      },
      "execution_count": 261,
      "outputs": []
    },
    {
      "cell_type": "code",
      "source": [
        "print(f\"Decoded watermark = {get_decoded_watermark(decoded_bits)}\")"
      ],
      "metadata": {
        "colab": {
          "base_uri": "https://localhost:8080/"
        },
        "id": "2K3zfrN_yUE1",
        "outputId": "837ec188-fc52-49d7-caec-c5cd6570bb32"
      },
      "execution_count": 262,
      "outputs": [
        {
          "output_type": "stream",
          "name": "stdout",
          "text": [
            "Decoded watermark = A watermark for zama bounty\u0000\u0000\u0000\u0000\u0000\n"
          ]
        }
      ]
    },
    {
      "cell_type": "markdown",
      "source": [
        "### Overlay"
      ],
      "metadata": {
        "id": "gMwU9K7X0RWj"
      }
    },
    {
      "cell_type": "code",
      "source": [],
      "metadata": {
        "id": "WpRyO_l70Xqp"
      },
      "execution_count": null,
      "outputs": []
    },
    {
      "cell_type": "code",
      "source": [
        "x = np.array([1,2,3,4])\n",
        "y = np.array([True, False, True, True])"
      ],
      "metadata": {
        "id": "gO_B5fDmQroh"
      },
      "execution_count": 114,
      "outputs": []
    },
    {
      "cell_type": "code",
      "source": [
        "set_bit(y, x)"
      ],
      "metadata": {
        "colab": {
          "base_uri": "https://localhost:8080/"
        },
        "id": "oNM9BWWlQ0qH",
        "outputId": "b59b5a15-d124-40ef-ca15-54f0a0c36bc1"
      },
      "execution_count": 117,
      "outputs": [
        {
          "output_type": "execute_result",
          "data": {
            "text/plain": [
              "array([ 9,  2, 11, 12])"
            ]
          },
          "metadata": {},
          "execution_count": 117
        }
      ]
    }
  ]
}
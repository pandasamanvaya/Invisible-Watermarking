{
 "cells": [
  {
   "cell_type": "markdown",
   "metadata": {
    "id": "fq5xkSnTLYd6"
   },
   "source": [
    "# **Privacy-Preserving Invisible Image Watermarking System**"
   ]
  },
  {
   "cell_type": "markdown",
   "metadata": {},
   "source": [
    "Invisible image watermarking is a technique to embed watermarking information into an image such that it is inperceptible to the human eye. Other than being inperceptible to human eye, it must be **undetecable**(not easily recoverable by adversary), **tamper-proof**(can't be easily modifed by the adversary) and **robust**(should be recoverable even after disortions).\n",
    "\n",
    "Most of the invisible watermarking techniques could be broadly classified into 3 categories :-\n",
    "* **Spatial Domain**:- In these techniques, the watermarking information is directly stored in the pixel values of the image channels(i.e RGB, YCrCb, etc.). The LSB (Least Significant Bit) embedding is one such example.\n",
    "* **Frequency Domain**:- In these techniques, the watermarking information is stored in the co-efficients after transforming the image using any frequency transformation technique. DCT, DWT and DFT embedding are few such examples.\n",
    "* **Latent Space**:- Most of the deep-learning based techniques would fall into this category. The idea here is to map an image to a latent space and add watermarking information in that space. RivaGan, LDM, LaWa are few such examples."
   ]
  },
  {
   "cell_type": "markdown",
   "metadata": {},
   "source": [
    "It has been shown that spatial domain techniques are not robust to disortions(compression, adding noise) and could be tampered easily by an adversary as they work directly with pixel values. On the other hand, frequency domain and latent space techniques are more robust to disortions because they add watermarking information after transforming the image."
   ]
  },
  {
   "cell_type": "markdown",
   "metadata": {},
   "source": [
    "## Overview"
   ]
  },
  {
   "cell_type": "markdown",
   "metadata": {},
   "source": [
    "In this notebook, we attempt to develop an privacy-preserving invisible image watermarking system. The basic requirements that need to satisfied:-\n",
    "* The input(image to watermarked) must be encrypted.\n",
    "* The watermarking information must be string or bytes.\n",
    "* The watermarking information may or may not be encrypted.\n",
    "\n",
    "Keeping the above requirements in mind, we have used a FHE scheme(TFHE) to develop our system using the Concrete library. "
   ]
  },
  {
   "cell_type": "markdown",
   "metadata": {},
   "source": [
    "### Approach"
   ]
  },
  {
   "cell_type": "markdown",
   "metadata": {},
   "source": [
    "We have skipped the latent space(deep-learning based) watermarking techniques. We initially started with a frequency-domain technique(DFT-based embedding) but since Concrete library doesn't work well with floating-point numbers, we had to skip it as well. In this notebook we have taken an **spatial domain** approach to watermark an image in a privacy-preserving way. In our approach, we embed the watermarking information in the 4th bit of the pixel value in RGB channel. "
   ]
  },
  {
   "cell_type": "markdown",
   "metadata": {},
   "source": [
    "#### Watermarking Approach Details"
   ]
  },
  {
   "cell_type": "markdown",
   "metadata": {},
   "source": [
    "In this project, we would be using spatial domain technique to embed watermarking information into the image. We :-\n",
    "* Convert the watermark message into bits.\n",
    "* Use repetition code to repeat the bits by repetition factor.\n",
    "* Append 0's to make the watermark bit string length same as that of number of pixels in the image.\n",
    "* Create a permuation map and inverse permutation map.\n",
    "* Permute the watermark bits to distribute the bits across the image.\n",
    "* To embed the watermark, set the watermark bits in the 4th bit of each pixel in one of the RGB channel.\n",
    "* To extract the watermark, retreive the 4th bit of each pixel, apply inverse permutation map and decode the watermark bits by majority voting."
   ]
  },
  {
   "cell_type": "code",
   "execution_count": 1,
   "metadata": {
    "colab": {
     "base_uri": "https://localhost:8080/"
    },
    "collapsed": true,
    "id": "4lxbtojDWZJm",
    "outputId": "82d26f59-39ee-4afd-fc51-22fba099d9f9"
   },
   "outputs": [],
   "source": [
    "!pip install -U pip wheel setuptools\n",
    "!pip install concrete-python"
   ]
  },
  {
   "cell_type": "code",
   "execution_count": 1,
   "metadata": {
    "id": "DMM74jJMWwti"
   },
   "outputs": [],
   "source": [
    "import cv2\n",
    "from concrete import fhe\n",
    "import numpy as np\n",
    "from copy import deepcopy\n",
    "import time\n",
    "from matplotlib import pyplot as plt"
   ]
  },
  {
   "cell_type": "code",
   "execution_count": 2,
   "metadata": {
    "id": "abJdp_6gaH8Z"
   },
   "outputs": [],
   "source": [
    "def read_image(path):\n",
    "  img = cv2.imread(path)\n",
    "  return img"
   ]
  },
  {
   "cell_type": "code",
   "execution_count": 3,
   "metadata": {
    "id": "Y_ewtNSHW_OC"
   },
   "outputs": [],
   "source": [
    "cifar_ind = 10\n",
    "path = f\"{cifar_ind}.jpg\"\n",
    "img = read_image(path)"
   ]
  },
  {
   "cell_type": "code",
   "execution_count": 4,
   "metadata": {
    "colab": {
     "base_uri": "https://localhost:8080/"
    },
    "id": "qkMgEGEQXAaT",
    "outputId": "2fea8888-e4c8-4e24-c223-2c7970996086"
   },
   "outputs": [
    {
     "name": "stdout",
     "output_type": "stream",
     "text": [
      "32 32 3\n",
      "(32, 32, 3)\n"
     ]
    }
   ],
   "source": [
    "l, b, c = img.shape\n",
    "print(l, b, c)\n",
    "print(img.shape)"
   ]
  },
  {
   "cell_type": "markdown",
   "metadata": {},
   "source": [
    "Message to be watermarked - \"A watermark for zama bounty\""
   ]
  },
  {
   "cell_type": "code",
   "execution_count": 5,
   "metadata": {
    "colab": {
     "base_uri": "https://localhost:8080/"
    },
    "id": "u-M8j9VhYSzI",
    "outputId": "8c8a5e35-cc68-4f52-a91b-9cd53b557746"
   },
   "outputs": [
    {
     "name": "stdout",
     "output_type": "stream",
     "text": [
      "27\n"
     ]
    }
   ],
   "source": [
    "watermark = b\"A watermark for zama bounty\"\n",
    "print(len(watermark))"
   ]
  },
  {
   "cell_type": "markdown",
   "metadata": {},
   "source": [
    "As mentioned earlier, we will embedding watermark information in 4th bit of the pixel values. We also choose the reptition factor = 4 for the repetition code."
   ]
  },
  {
   "cell_type": "code",
   "execution_count": 6,
   "metadata": {
    "id": "89nBg7NMSFfq"
   },
   "outputs": [],
   "source": [
    "info_bit = 4\n",
    "mask = 1 << (info_bit-1)\n",
    "repetition_len = 4\n",
    "watermark_len = l*b\n",
    "index = 1"
   ]
  },
  {
   "cell_type": "code",
   "execution_count": 7,
   "metadata": {
    "id": "NSMRnzBlTTSx"
   },
   "outputs": [],
   "source": [
    "def byte_to_byte_str(bytes):\n",
    "    return ''.join(format(byte, '08b') for byte in bytes)\n",
    "\n",
    "def encode_repeated_bits(bits, factor):\n",
    "    repeated_bits = ''\n",
    "    for bit in bits:\n",
    "        repeated_bits += bit*factor\n",
    "    return repeated_bits"
   ]
  },
  {
   "cell_type": "code",
   "execution_count": 8,
   "metadata": {
    "colab": {
     "base_uri": "https://localhost:8080/"
    },
    "id": "KzGiJJxDUFw7",
    "outputId": "4336793d-69ac-4b32-de5e-cb5bd7037c42"
   },
   "outputs": [
    {
     "name": "stdout",
     "output_type": "stream",
     "text": [
      "1024\n"
     ]
    }
   ],
   "source": [
    "watermark_bits = byte_to_byte_str(watermark)\n",
    "watermark_bits = encode_repeated_bits(watermark_bits, repetition_len)\n",
    "# print(watermark_bits)\n",
    "watermark_bits += '0'*(watermark_len - len(watermark_bits))\n",
    "print(len(watermark_bits))"
   ]
  },
  {
   "cell_type": "markdown",
   "metadata": {},
   "source": [
    "Generating the random permutation map and its inverse. Permuation map will be used during embedding(encoding) the message into the image. Inverse permutation map will be used to extract(decode) the message from the watermarked image. "
   ]
  },
  {
   "cell_type": "code",
   "execution_count": 9,
   "metadata": {
    "id": "jmE_qFqqV1OZ"
   },
   "outputs": [],
   "source": [
    "x = np.arange(watermark_len)\n",
    "permutation_map = np.random.permutation(x)"
   ]
  },
  {
   "cell_type": "code",
   "execution_count": 10,
   "metadata": {
    "id": "3b7AluwE9zlp"
   },
   "outputs": [],
   "source": [
    "perm_watermark_bits = np.zeros(watermark_len, dtype=int)\n",
    "inv_permutation_map = np.zeros(watermark_len, dtype=int)"
   ]
  },
  {
   "cell_type": "code",
   "execution_count": 12,
   "metadata": {
    "id": "h76vi3MEV4kM"
   },
   "outputs": [],
   "source": [
    "for i in range(watermark_len):\n",
    "    # perm_watermark_bits[i] = watermark_bits[i]\n",
    "    perm_watermark_bits[i] = watermark_bits[permutation_map[i]]\n",
    "    inv_permutation_map[permutation_map[i]] = i\n",
    "bool_watermark_bits = [True if perm_watermark_bits[i] else False for i in range(watermark_len)]"
   ]
  },
  {
   "cell_type": "markdown",
   "metadata": {},
   "source": [
    "Encoding and Decoding watermark value into each pixel"
   ]
  },
  {
   "cell_type": "code",
   "execution_count": 13,
   "metadata": {
    "id": "YkZ5Cxp0TGb1"
   },
   "outputs": [],
   "source": [
    "def set_bit(bit, val):\n",
    "  return val | mask if bit else val & (255 - mask)\n",
    "  # return (val | mask)*bit + (1-bit)*(val & (255 - mask))\n",
    "def extract_bit(val):\n",
    "  return (val & mask) == mask"
   ]
  },
  {
   "cell_type": "code",
   "execution_count": 14,
   "metadata": {
    "id": "KMDLuNzmXCgZ"
   },
   "outputs": [],
   "source": [
    "def set_bit_encrypted(bit, val):\n",
    "  return fhe.multivariate(set_bit)(bit, val)\n",
    "def extract_bit_encrypted(val):\n",
    "  return fhe.univariate(extract_bit)(val)"
   ]
  },
  {
   "cell_type": "markdown",
   "metadata": {},
   "source": [
    "Defining the FHE circuit"
   ]
  },
  {
   "cell_type": "code",
   "execution_count": 50,
   "metadata": {
    "id": "MtWh_BfDXF0n"
   },
   "outputs": [],
   "source": [
    "inputset = [(True if np.random.randint(0, 2) else False, np.random.randint(0, 256)) for _ in range(100)]"
   ]
  },
  {
   "cell_type": "code",
   "execution_count": 51,
   "metadata": {
    "id": "f4eWkTDcXMnM"
   },
   "outputs": [],
   "source": [
    "configuration = fhe.Configuration(p_error=0.01, dataflow_parallelize=True)\n",
    "encoder_compiler = fhe.Compiler(set_bit_encrypted, {\"bit\": \"encrypted\", \"val\": \"encrypted\"})\n",
    "encoder_circuit = encoder_compiler.compile(inputset, configuration=configuration, loop_parallelize=True)"
   ]
  },
  {
   "cell_type": "markdown",
   "metadata": {},
   "source": [
    "Embedding the watermark to the image"
   ]
  },
  {
   "cell_type": "code",
   "execution_count": 52,
   "metadata": {
    "colab": {
     "base_uri": "https://localhost:8080/"
    },
    "collapsed": true,
    "id": "Mw6Sr6jnXdgg",
    "outputId": "184a945c-cf92-46c2-b313-5c2d0c384c7e"
   },
   "outputs": [
    {
     "name": "stdout",
     "output_type": "stream",
     "text": [
      "Iteration : 1\n",
      "Iteration : 2\n",
      "Iteration : 3\n",
      "Iteration : 4\n",
      "Iteration : 5\n",
      "Iteration : 6\n",
      "Iteration : 7\n",
      "Iteration : 8\n",
      "Iteration : 9\n",
      "Iteration : 10\n",
      "Iteration : 11\n",
      "Iteration : 12\n",
      "Iteration : 13\n",
      "Iteration : 14\n",
      "Iteration : 15\n",
      "Iteration : 16\n",
      "Iteration : 17\n",
      "Iteration : 18\n",
      "Iteration : 19\n",
      "Iteration : 20\n",
      "Iteration : 21\n",
      "Iteration : 22\n",
      "Iteration : 23\n",
      "Iteration : 24\n",
      "Iteration : 25\n",
      "Iteration : 26\n",
      "Iteration : 27\n",
      "Iteration : 28\n",
      "Iteration : 29\n",
      "Iteration : 30\n",
      "Iteration : 31\n",
      "Iteration : 32\n"
     ]
    }
   ],
   "source": [
    "watermarked_img = deepcopy(img)\n",
    "\n",
    "start_time = time.time()\n",
    "for i in range(l):\n",
    "    print(f\"Iteration : {i+1}\")\n",
    "    for j in range(b):\n",
    "      watermarked_img[i][j][index] = encoder_circuit.encrypt_run_decrypt(bool_watermark_bits[i*b+j], img[i][j][index])\n",
    "end_time = time.time()"
   ]
  },
  {
   "cell_type": "code",
   "execution_count": 54,
   "metadata": {
    "colab": {
     "base_uri": "https://localhost:8080/"
    },
    "id": "wLXJtnzaZU9U",
    "outputId": "fe954b18-6992-4ae4-b85f-4b9d21b3381a"
   },
   "outputs": [
    {
     "name": "stdout",
     "output_type": "stream",
     "text": [
      "Total time taken = 73.45678718884785 minutes\n",
      "PSNR after embedding watermark = 33.16546193858141\n"
     ]
    },
    {
     "data": {
      "text/plain": [
       "True"
      ]
     },
     "execution_count": 54,
     "metadata": {},
     "output_type": "execute_result"
    }
   ],
   "source": [
    "print(f\"Total time taken = {(end_time-start_time)/60} minutes\")\n",
    "print(f\"PSNR after embedding watermark = {cv2.PSNR(watermarked_img, img)}\")\n",
    "watermarked_img_path = f\"watermarked_image_{cifar_ind}.png\"\n",
    "cv2.imwrite(watermarked_img_path, watermarked_img)"
   ]
  },
  {
   "cell_type": "markdown",
   "metadata": {},
   "source": [
    "The PSNR gives a measure of the image quality after the watermark is embedded into the image. A PSNR value between 30 to 50 is considered a good score. We observe that after embedding the watermark, we obtain a PSNR of ~33(33.165). This implies that after adding the watermark to the image, we have not significantly degraded the quality of the image."
   ]
  },
  {
   "cell_type": "code",
   "execution_count": 18,
   "metadata": {
    "colab": {
     "base_uri": "https://localhost:8080/",
     "height": 507
    },
    "id": "ar2IsM5FZ6kK",
    "outputId": "b27d03f4-763f-44b2-9767-e3658a029241"
   },
   "outputs": [
    {
     "data": {
      "image/png": "[encoded data removed]",
      "text/plain": [
       "<Figure size 1500x500 with 2 Axes>"
      ]
     },
     "metadata": {},
     "output_type": "display_data"
    }
   ],
   "source": [
    "fig, axes = plt.subplots(1, 2, figsize=(15, 5))\n",
    "\n",
    "axes[0].imshow(img)\n",
    "axes[0].set_title(\"Original Image\")\n",
    "axes[0].axis('off')\n",
    "\n",
    "axes[1].imshow(watermarked_img)\n",
    "axes[1].set_title(\"Image Embedded with watermark\")\n",
    "axes[1].axis('off')\n",
    "\n",
    "plt.tight_layout(w_pad=3)\n",
    "\n",
    "plt.show()"
   ]
  },
  {
   "cell_type": "code",
   "execution_count": 43,
   "metadata": {
    "id": "DGNBejwneYl0"
   },
   "outputs": [],
   "source": [
    "watermarked_img = read_image(watermarked_img_path)"
   ]
  },
  {
   "cell_type": "markdown",
   "metadata": {},
   "source": [
    "Extracting the watermarking bits from the watermarked image"
   ]
  },
  {
   "cell_type": "code",
   "execution_count": 55,
   "metadata": {
    "id": "qGQnMhhRpHzk"
   },
   "outputs": [],
   "source": [
    "inputset = [(np.random.randint(0, 256)) for _ in range(100)]"
   ]
  },
  {
   "cell_type": "code",
   "execution_count": 56,
   "metadata": {
    "id": "N8VaRMNuuGRc"
   },
   "outputs": [],
   "source": [
    "decoder_compiler = fhe.Compiler(extract_bit_encrypted, {\"val\": \"encrypted\"})\n",
    "decoder_circuit = decoder_compiler.compile(inputset, configuration=configuration, loop_parallelize=True)"
   ]
  },
  {
   "cell_type": "code",
   "execution_count": 57,
   "metadata": {
    "colab": {
     "base_uri": "https://localhost:8080/"
    },
    "collapsed": true,
    "id": "ZX4QoTXzugvG",
    "outputId": "7906e5b9-4712-466f-833f-14521837096d"
   },
   "outputs": [
    {
     "name": "stdout",
     "output_type": "stream",
     "text": [
      "Iteration : 1\n",
      "Iteration : 2\n",
      "Iteration : 3\n",
      "Iteration : 4\n",
      "Iteration : 5\n",
      "Iteration : 6\n",
      "Iteration : 7\n",
      "Iteration : 8\n",
      "Iteration : 9\n",
      "Iteration : 10\n",
      "Iteration : 11\n",
      "Iteration : 12\n",
      "Iteration : 13\n",
      "Iteration : 14\n",
      "Iteration : 15\n",
      "Iteration : 16\n",
      "Iteration : 17\n",
      "Iteration : 18\n",
      "Iteration : 19\n",
      "Iteration : 20\n",
      "Iteration : 21\n",
      "Iteration : 22\n",
      "Iteration : 23\n",
      "Iteration : 24\n",
      "Iteration : 25\n",
      "Iteration : 26\n",
      "Iteration : 27\n",
      "Iteration : 28\n",
      "Iteration : 29\n",
      "Iteration : 30\n",
      "Iteration : 31\n",
      "Iteration : 32\n"
     ]
    }
   ],
   "source": [
    "decoded_bits = []\n",
    "\n",
    "start_time = time.time()\n",
    "for i in range(l):\n",
    "    print(f\"Iteration : {i+1}\")\n",
    "    for j in range(b):\n",
    "      decoded_bits.append(decoder_circuit.encrypt_run_decrypt(watermarked_img[i][j][index]))\n",
    "end_time = time.time()"
   ]
  },
  {
   "cell_type": "code",
   "execution_count": 58,
   "metadata": {
    "colab": {
     "base_uri": "https://localhost:8080/"
    },
    "id": "GxYmoiGAvR2P",
    "outputId": "fff9750c-4811-46ab-8e9c-d8ab7931797f"
   },
   "outputs": [
    {
     "name": "stdout",
     "output_type": "stream",
     "text": [
      "Total time taken = 19.743716752529146 minutes\n"
     ]
    }
   ],
   "source": [
    "print(f\"Total time taken = {(end_time-start_time)/60} minutes\")"
   ]
  },
  {
   "cell_type": "code",
   "execution_count": 26,
   "metadata": {
    "id": "NL69pBVlx_s2"
   },
   "outputs": [],
   "source": [
    "def bin_str_to_bytes(bin_str):\n",
    "    return bytes(int(bin_str[i:i+8], 2) for i in range(0, len(bin_str), 8)).decode('ISO-8859-1')\n",
    "\n",
    "def decode_repeated_bits(bits, factor):\n",
    "\n",
    "    def bit_count(bit):\n",
    "        return sum([1 for i in range(bit.bit_length()) if bit & (1 << i)])\n",
    "\n",
    "    result_bits = ''\n",
    "    for i in range(0, len(bits), factor):\n",
    "        bit_block = bits[i:min(i+factor, len(bits))]\n",
    "        result_bits += '1' if sum(bit_block) > factor//2 else '0'\n",
    "\n",
    "    return result_bits"
   ]
  },
  {
   "cell_type": "code",
   "execution_count": 59,
   "metadata": {
    "id": "BrFHK5cVvdtu"
   },
   "outputs": [],
   "source": [
    "decoded_bits = [1 if decoded_bits[i] else 0 for i in range(watermark_len)]\n",
    "inv_perm_watermark_bits = np.zeros(watermark_len, dtype=int)\n",
    "for i in range(watermark_len):\n",
    "    inv_perm_watermark_bits[i] = decoded_bits[inv_permutation_map[i]]"
   ]
  },
  {
   "cell_type": "code",
   "execution_count": 24,
   "metadata": {
    "id": "1Jsdlc5dvlC9"
   },
   "outputs": [],
   "source": [
    "def get_decoded_watermark(decoded_bits):\n",
    "  decoded_bits = [1 if decoded_bits[i] else 0 for i in range(watermark_len)]\n",
    "  inv_perm_watermark_bits = np.zeros(watermark_len, dtype=int)\n",
    "  for i in range(watermark_len):\n",
    "      inv_perm_watermark_bits[i] = decoded_bits[inv_permutation_map[i]]\n",
    "  decoded_watermark_bits = decode_repeated_bits(inv_perm_watermark_bits, repetition_len)\n",
    "\n",
    "  return bin_str_to_bytes(decoded_watermark_bits)"
   ]
  },
  {
   "cell_type": "code",
   "execution_count": 188,
   "metadata": {
    "colab": {
     "base_uri": "https://localhost:8080/"
    },
    "id": "dwFEJrxeywpk",
    "outputId": "886d2603-1fdc-4b81-8454-6f4f99644b84"
   },
   "outputs": [
    {
     "name": "stdout",
     "output_type": "stream",
     "text": [
      "Decoded watermark = A watermark for zama bounty\u0000\u0000\u0000\u0000\u0000\n"
     ]
    }
   ],
   "source": [
    "print(f\"Decoded watermark = {get_decoded_watermark(decoded_bits)}\")"
   ]
  },
  {
   "cell_type": "markdown",
   "metadata": {},
   "source": [
    "We were able to decode the watermark message correctly using our 4-th bit embedding technique"
   ]
  },
  {
   "cell_type": "markdown",
   "metadata": {
    "id": "RFrkmPbLzL8P"
   },
   "source": [
    "## Performance on distortions/attacks on watermarked image"
   ]
  },
  {
   "cell_type": "markdown",
   "metadata": {},
   "source": [
    "Robustness of watermarking technique is the good measure of the performance of the technique. In this section, we will discuss some of the major distortions and attacks on watermarked images"
   ]
  },
  {
   "cell_type": "markdown",
   "metadata": {
    "id": "87GbuNNZ0alr"
   },
   "source": [
    "### JPEG Compression"
   ]
  },
  {
   "cell_type": "code",
   "execution_count": 19,
   "metadata": {
    "id": "L49iEksU0gqX"
   },
   "outputs": [],
   "source": [
    "def compress_image(img, quality=90):\n",
    "\n",
    "    # Encode the image with JPEG compression\n",
    "    encode_param = [int(cv2.IMWRITE_JPEG_QUALITY), quality]\n",
    "    _, encoded_img = cv2.imencode('.jpg', img, encode_param)\n",
    "\n",
    "    # Decode the compressed image\n",
    "    decoded_img = cv2.imdecode(encoded_img, cv2.IMREAD_COLOR)\n",
    "\n",
    "    return decoded_img"
   ]
  },
  {
   "cell_type": "code",
   "execution_count": 20,
   "metadata": {
    "colab": {
     "base_uri": "https://localhost:8080/"
    },
    "id": "FK8YQGg9s2l1",
    "outputId": "2f12bcc0-414f-435a-ee0d-ed93b29dd1d9"
   },
   "outputs": [
    {
     "name": "stdout",
     "output_type": "stream",
     "text": [
      "PSNR after compression = 33.18353606142344\n"
     ]
    }
   ],
   "source": [
    "watermarked_img = read_image(watermarked_img_path)\n",
    "compressed_img = compress_image(watermarked_img, quality=90)\n",
    "print(f\"PSNR after compression = {cv2.PSNR(compressed_img, watermarked_img)}\")"
   ]
  },
  {
   "cell_type": "markdown",
   "metadata": {},
   "source": [
    "The PSNR value after jpeg compression is within acceptable range indicating less degradation in quality"
   ]
  },
  {
   "cell_type": "code",
   "execution_count": 31,
   "metadata": {
    "colab": {
     "base_uri": "https://localhost:8080/",
     "height": 507
    },
    "id": "Xaz60BnF56GB",
    "outputId": "03278bb6-62e0-413d-b58e-3b4b19815517"
   },
   "outputs": [
    {
     "data": {
      "image/png": "[encoded data removed]",
      "text/plain": [
       "<Figure size 1500x500 with 2 Axes>"
      ]
     },
     "metadata": {},
     "output_type": "display_data"
    }
   ],
   "source": [
    "fig, axes = plt.subplots(1, 2, figsize=(15, 5))\n",
    "\n",
    "axes[0].imshow(img)\n",
    "axes[0].set_title(\"Original Image\")\n",
    "axes[0].axis('off')\n",
    "\n",
    "axes[1].imshow(compressed_img)\n",
    "axes[1].set_title(\"Compressed watermarked Image\")\n",
    "axes[1].axis('off')\n",
    "\n",
    "plt.tight_layout(w_pad=3)\n",
    "\n",
    "plt.show()"
   ]
  },
  {
   "cell_type": "code",
   "execution_count": 28,
   "metadata": {
    "colab": {
     "base_uri": "https://localhost:8080/",
     "height": 216
    },
    "id": "P9V8zDjc5VWi",
    "outputId": "d21a7315-70cb-41e5-b5d4-5180d5aacdbf"
   },
   "outputs": [
    {
     "name": "stdout",
     "output_type": "stream",
     "text": [
      "Iteration : 1\n",
      "Iteration : 2\n",
      "Iteration : 3\n",
      "Iteration : 4\n",
      "Iteration : 5\n",
      "Iteration : 6\n",
      "Iteration : 7\n",
      "Iteration : 8\n",
      "Iteration : 9\n",
      "Iteration : 10\n",
      "Iteration : 11\n",
      "Iteration : 12\n",
      "Iteration : 13\n",
      "Iteration : 14\n",
      "Iteration : 15\n",
      "Iteration : 16\n",
      "Iteration : 17\n",
      "Iteration : 18\n",
      "Iteration : 19\n",
      "Iteration : 20\n",
      "Iteration : 21\n",
      "Iteration : 22\n",
      "Iteration : 23\n",
      "Iteration : 24\n",
      "Iteration : 25\n",
      "Iteration : 26\n",
      "Iteration : 27\n",
      "Iteration : 28\n",
      "Iteration : 29\n",
      "Iteration : 30\n",
      "Iteration : 31\n",
      "Iteration : 32\n"
     ]
    }
   ],
   "source": [
    "decoded_bits = []\n",
    "\n",
    "start_time = time.time()\n",
    "for i in range(l):\n",
    "    print(f\"Iteration : {i+1}\")\n",
    "    for j in range(b):\n",
    "      decoded_bits.append(decoder_circuit.encrypt_run_decrypt(watermarked_img[i][j][index]))\n",
    "end_time = time.time()"
   ]
  },
  {
   "cell_type": "code",
   "execution_count": null,
   "metadata": {},
   "outputs": [
    {
     "name": "stdout",
     "output_type": "stream",
     "text": [
      "Total time taken = 18.88556028665628 minutes\n"
     ]
    }
   ],
   "source": [
    "print(f\"Total time taken = {(end_time-start_time)/60} minutes\")"
   ]
  },
  {
   "cell_type": "code",
   "execution_count": 27,
   "metadata": {
    "colab": {
     "base_uri": "https://localhost:8080/"
    },
    "id": "85tqqi5CtGLy",
    "outputId": "8ff25e3c-fb0d-472a-9d49-ec278be70b17"
   },
   "outputs": [
    {
     "name": "stdout",
     "output_type": "stream",
     "text": [
      "Decoded watermark = ÉBoiôÔs*<s[Rk\u000e¤ ]°!Å ÒMy÷Ôq¢\u001c\u0012\n"
     ]
    }
   ],
   "source": [
    "print(f\"Decoded watermark = {get_decoded_watermark(decoded_bits)}\")"
   ]
  },
  {
   "cell_type": "markdown",
   "metadata": {},
   "source": [
    "Our approach was not able to recover the watermark message after compressing the watermarked image. This didn't work because our scheme can tolerate upto N/2 changes in pixel value. However, after jpeg compression, most of the pixel values change making our technique useless against jpeg attack."
   ]
  },
  {
   "cell_type": "markdown",
   "metadata": {
    "id": "Y_Jx3rZUz_vD"
   },
   "source": [
    "### Gaussian Noise"
   ]
  },
  {
   "cell_type": "code",
   "execution_count": 178,
   "metadata": {
    "id": "3jwaQSDpzLUG"
   },
   "outputs": [],
   "source": [
    "def add_gaussian_noise(image, mean=0, std=1):\n",
    "    noise = np.abs(np.random.normal(mean, std, image.shape)).astype(np.uint8)\n",
    "    noisy_image = cv2.add(image, noise)\n",
    "    return noisy_image, noise"
   ]
  },
  {
   "cell_type": "code",
   "execution_count": 263,
   "metadata": {
    "colab": {
     "base_uri": "https://localhost:8080/"
    },
    "id": "_6phHE2zOhmm",
    "outputId": "07ee5d23-f2cf-4050-a324-75bb8c4dbc35"
   },
   "outputs": [
    {
     "name": "stdout",
     "output_type": "stream",
     "text": [
      "PSNR after adding noise = 33.200027964119116\n"
     ]
    }
   ],
   "source": [
    "watermarked_img = read_image(watermarked_img_path)\n",
    "noisy_watermarked_img, noise = add_gaussian_noise(watermarked_img)\n",
    "print(f\"PSNR after adding noise = {cv2.PSNR(noisy_watermarked_img, img)}\")"
   ]
  },
  {
   "cell_type": "code",
   "execution_count": 264,
   "metadata": {
    "colab": {
     "base_uri": "https://localhost:8080/",
     "height": 507
    },
    "id": "eChtS_jQp-LC",
    "outputId": "e97cc491-92f6-4d7a-f997-64dbbb0aa98a"
   },
   "outputs": [
    {
     "data": {
      "image/png": "[encoded data removed]",
      "text/plain": [
       "<Figure size 1500x500 with 2 Axes>"
      ]
     },
     "metadata": {},
     "output_type": "display_data"
    }
   ],
   "source": [
    "fig, axes = plt.subplots(1, 2, figsize=(15, 5))\n",
    "\n",
    "axes[0].imshow(img)\n",
    "axes[0].set_title(\"Original Image\")\n",
    "axes[0].axis('off')\n",
    "\n",
    "axes[1].imshow(noisy_watermarked_img)\n",
    "axes[1].set_title(\"Watermarked Image with Noise\")\n",
    "axes[1].axis('off')\n",
    "\n",
    "plt.tight_layout(w_pad=3)\n",
    "\n",
    "plt.show()"
   ]
  },
  {
   "cell_type": "code",
   "execution_count": null,
   "metadata": {
    "colab": {
     "base_uri": "https://localhost:8080/"
    },
    "id": "OlHTFswI1mQ4",
    "outputId": "1c909c0b-7885-4c35-cec9-0e076c4c9afd"
   },
   "outputs": [
    {
     "name": "stdout",
     "output_type": "stream",
     "text": [
      "Iteration : 1\n",
      "Iteration : 2\n",
      "Iteration : 3\n",
      "Iteration : 4\n",
      "Iteration : 5\n",
      "Iteration : 6\n",
      "Iteration : 7\n",
      "Iteration : 8\n",
      "Iteration : 9\n",
      "Iteration : 10\n",
      "Iteration : 11\n",
      "Iteration : 12\n",
      "Iteration : 13\n",
      "Iteration : 14\n",
      "Iteration : 15\n",
      "Iteration : 16\n",
      "Iteration : 17\n",
      "Iteration : 18\n",
      "Iteration : 19\n",
      "Iteration : 20\n",
      "Iteration : 21\n",
      "Iteration : 22\n",
      "Iteration : 23\n",
      "Iteration : 24\n",
      "Iteration : 25\n",
      "Iteration : 26\n",
      "Iteration : 27\n",
      "Iteration : 28\n",
      "Iteration : 29\n",
      "Iteration : 30\n",
      "Iteration : 31\n",
      "Iteration : 32\n"
     ]
    }
   ],
   "source": [
    "decoded_bits = []\n",
    "\n",
    "start_time = time.time()\n",
    "for i in range(l):\n",
    "    print(f\"Iteration : {i+1}\")\n",
    "    for j in range(b):\n",
    "      decoded_bits.append(decoder_circuit.encrypt_run_decrypt(watermarked_img[i][j][index]))\n",
    "end_time = time.time()"
   ]
  },
  {
   "cell_type": "code",
   "execution_count": null,
   "metadata": {},
   "outputs": [
    {
     "name": "stdout",
     "output_type": "stream",
     "text": [
      "Total time taken = 20.02531191468679 minutes\n"
     ]
    }
   ],
   "source": [
    "print(f\"Total time taken = {(end_time-start_time)/60} minutes\")"
   ]
  },
  {
   "cell_type": "code",
   "execution_count": 195,
   "metadata": {
    "colab": {
     "base_uri": "https://localhost:8080/"
    },
    "id": "B_UH9-tvpwk3",
    "outputId": "7a2042b8-6675-402d-cc6e-8072e251ce5c"
   },
   "outputs": [
    {
     "name": "stdout",
     "output_type": "stream",
     "text": [
      "Decoded watermark = A watermark for zama b/unty\u0000\u0000\u0000\u0000\u0000\n"
     ]
    }
   ],
   "source": [
    "print(f\"Decoded watermark = {get_decoded_watermark(decoded_bits)}\")"
   ]
  },
  {
   "cell_type": "markdown",
   "metadata": {},
   "source": [
    "Our approach was almost able to recover the watermark message(other than 'o' instead of '/' in 'bounty') after. This worked because the gaussian noise added was within certain range. If we add large gaussian noise, then we would not be able to recover the the watermarked image. However, in that case, the quality of the original image would also be almost degraded(PSNR would be very low).  "
   ]
  },
  {
   "cell_type": "markdown",
   "metadata": {
    "id": "b7NkD3Pb0Dt0"
   },
   "source": [
    "### Brightness And Contrast"
   ]
  },
  {
   "cell_type": "code",
   "execution_count": 253,
   "metadata": {
    "colab": {
     "base_uri": "https://localhost:8080/"
    },
    "id": "qXMyu2_y0HUL",
    "outputId": "1c92866f-827c-47bc-8eb8-7bdb5de262f4"
   },
   "outputs": [
    {
     "name": "stdout",
     "output_type": "stream",
     "text": [
      "PSNR after adding noise = 33.234047173253636\n"
     ]
    }
   ],
   "source": [
    "watermarked_img = read_image(watermarked_img_path)\n",
    "brightness = 1.5\n",
    "contrast = 1.0\n",
    "weighted_watermarked_img = cv2.addWeighted(watermarked_img, contrast, np.zeros(watermarked_img.shape, watermarked_img.dtype), 0, brightness)\n",
    "print(f\"PSNR after adding noise = {cv2.PSNR(weighted_watermarked_img, img)}\")"
   ]
  },
  {
   "cell_type": "code",
   "execution_count": 254,
   "metadata": {
    "colab": {
     "base_uri": "https://localhost:8080/",
     "height": 507
    },
    "id": "6iCsqh_az9R3",
    "outputId": "9418ede5-d35d-4b90-b078-4eb05cefe4d7"
   },
   "outputs": [
    {
     "data": {
      "image/png": "[encoded data removed]",
      "text/plain": [
       "<Figure size 1500x500 with 2 Axes>"
      ]
     },
     "metadata": {},
     "output_type": "display_data"
    }
   ],
   "source": [
    "fig, axes = plt.subplots(1, 2, figsize=(15, 5))\n",
    "\n",
    "axes[0].imshow(img)\n",
    "axes[0].set_title(\"Original Image\")\n",
    "axes[0].axis('off')\n",
    "\n",
    "axes[1].imshow(weighted_watermarked_img)\n",
    "axes[1].set_title(\"Watermarked Image with modified Brightness and Contrast\")\n",
    "axes[1].axis('off')\n",
    "\n",
    "plt.tight_layout(w_pad=3)\n",
    "\n",
    "plt.show()"
   ]
  },
  {
   "cell_type": "code",
   "execution_count": 29,
   "metadata": {
    "colab": {
     "base_uri": "https://localhost:8080/",
     "height": 216
    },
    "id": "Zylwueax5jKz",
    "outputId": "4ff13e04-f532-44cf-ac82-b2f4314618fd"
   },
   "outputs": [
    {
     "name": "stdout",
     "output_type": "stream",
     "text": [
      "Iteration : 1\n",
      "Iteration : 2\n",
      "Iteration : 3\n",
      "Iteration : 4\n",
      "Iteration : 5\n",
      "Iteration : 6\n",
      "Iteration : 7\n",
      "Iteration : 8\n",
      "Iteration : 9\n",
      "Iteration : 10\n",
      "Iteration : 11\n",
      "Iteration : 12\n",
      "Iteration : 13\n",
      "Iteration : 14\n",
      "Iteration : 15\n",
      "Iteration : 16\n",
      "Iteration : 17\n",
      "Iteration : 18\n",
      "Iteration : 19\n",
      "Iteration : 20\n",
      "Iteration : 21\n",
      "Iteration : 22\n",
      "Iteration : 23\n",
      "Iteration : 24\n",
      "Iteration : 25\n",
      "Iteration : 26\n",
      "Iteration : 27\n",
      "Iteration : 28\n",
      "Iteration : 29\n",
      "Iteration : 30\n",
      "Iteration : 31\n",
      "Iteration : 32\n"
     ]
    }
   ],
   "source": [
    "decoded_bits = []\n",
    "\n",
    "start_time = time.time()\n",
    "for i in range(l):\n",
    "    print(f\"Iteration : {i+1}\")\n",
    "    for j in range(b):\n",
    "      decoded_bits.append(decoder_circuit.encrypt_run_decrypt(watermarked_img[i][j][index]))\n",
    "end_time = time.time()"
   ]
  },
  {
   "cell_type": "code",
   "execution_count": null,
   "metadata": {},
   "outputs": [
    {
     "name": "stdout",
     "output_type": "stream",
     "text": [
      "Total time taken = 20.536803536986966 minutes\n"
     ]
    }
   ],
   "source": [
    "print(f\"Total time taken = {(end_time-start_time)/60} minutes\")"
   ]
  },
  {
   "cell_type": "code",
   "execution_count": 258,
   "metadata": {
    "colab": {
     "base_uri": "https://localhost:8080/"
    },
    "id": "M-CdeLwk0MZ9",
    "outputId": "e497581d-f97c-4ba2-a174-d246fda26b5d"
   },
   "outputs": [
    {
     "name": "stdout",
     "output_type": "stream",
     "text": [
      "Decoded watermark = R${`vmz¡ár}¬ãov{áåa`r/wnôy\u0001\u0000\u00040\n"
     ]
    }
   ],
   "source": [
    "print(f\"Decoded watermark = {get_decoded_watermark(decoded_bits)}\")"
   ]
  },
  {
   "cell_type": "markdown",
   "metadata": {},
   "source": [
    "Our approach was not able to recover the watermark message after changing the contrast and brightness of the watermarked image. Similar to jpeg compression, changing brightness and contrast changes most of the pixel values making our technique again useless."
   ]
  },
  {
   "cell_type": "markdown",
   "metadata": {
    "id": "9-85Met80HyD"
   },
   "source": [
    "### Gaussian Blur"
   ]
  },
  {
   "cell_type": "code",
   "execution_count": 259,
   "metadata": {
    "colab": {
     "base_uri": "https://localhost:8080/"
    },
    "id": "Kq8p24-20Q9q",
    "outputId": "68aa8c7f-efa5-4357-ef51-a56cda4c673d"
   },
   "outputs": [
    {
     "name": "stdout",
     "output_type": "stream",
     "text": [
      "PSNR after gaussian blur = 33.16546193858141\n"
     ]
    }
   ],
   "source": [
    "watermarked_img = read_image(watermarked_img_path)\n",
    "blur_watermarked_img = cv2.GaussianBlur(watermarked_img, (1, 1), 0)\n",
    "print(f\"PSNR after gaussian blur = {cv2.PSNR(blur_watermarked_img, img)}\")"
   ]
  },
  {
   "cell_type": "code",
   "execution_count": 260,
   "metadata": {
    "colab": {
     "base_uri": "https://localhost:8080/",
     "height": 507
    },
    "id": "J_GrXTh2xzBG",
    "outputId": "9a54985c-26cc-4be8-ef42-45cdb4cabeff"
   },
   "outputs": [
    {
     "data": {
      "image/png": "[encoded data removed]",
      "text/plain": [
       "<Figure size 1500x500 with 2 Axes>"
      ]
     },
     "metadata": {},
     "output_type": "display_data"
    }
   ],
   "source": [
    "fig, axes = plt.subplots(1, 2, figsize=(15, 5))\n",
    "\n",
    "axes[0].imshow(img)\n",
    "axes[0].set_title(\"Original Image\")\n",
    "axes[0].axis('off')\n",
    "\n",
    "axes[1].imshow(blur_watermarked_img)\n",
    "axes[1].set_title(\"Watermarked Image with Gaussian Blur\")\n",
    "axes[1].axis('off')\n",
    "\n",
    "plt.tight_layout(w_pad=3)\n",
    "\n",
    "plt.show()"
   ]
  },
  {
   "cell_type": "code",
   "execution_count": 30,
   "metadata": {
    "colab": {
     "base_uri": "https://localhost:8080/",
     "height": 216
    },
    "id": "cGOOn3r05nhu",
    "outputId": "8565d40c-8d1b-429f-c649-70d45f3e1daf"
   },
   "outputs": [
    {
     "name": "stdout",
     "output_type": "stream",
     "text": [
      "Iteration : 1\n",
      "Iteration : 2\n",
      "Iteration : 3\n",
      "Iteration : 4\n",
      "Iteration : 5\n",
      "Iteration : 6\n",
      "Iteration : 7\n",
      "Iteration : 8\n",
      "Iteration : 9\n",
      "Iteration : 10\n",
      "Iteration : 11\n",
      "Iteration : 12\n",
      "Iteration : 13\n",
      "Iteration : 14\n",
      "Iteration : 15\n",
      "Iteration : 16\n",
      "Iteration : 17\n",
      "Iteration : 18\n",
      "Iteration : 19\n",
      "Iteration : 20\n",
      "Iteration : 21\n",
      "Iteration : 22\n",
      "Iteration : 23\n",
      "Iteration : 24\n",
      "Iteration : 25\n",
      "Iteration : 26\n",
      "Iteration : 27\n",
      "Iteration : 28\n",
      "Iteration : 29\n",
      "Iteration : 30\n",
      "Iteration : 31\n",
      "Iteration : 32\n"
     ]
    }
   ],
   "source": [
    "decoded_bits = []\n",
    "\n",
    "start_time = time.time()\n",
    "for i in range(l):\n",
    "    print(f\"Iteration : {i+1}\")\n",
    "    for j in range(b):\n",
    "      decoded_bits.append(decoder_circuit.encrypt_run_decrypt(watermarked_img[i][j][index]))\n",
    "end_time = time.time()"
   ]
  },
  {
   "cell_type": "code",
   "execution_count": null,
   "metadata": {},
   "outputs": [
    {
     "name": "stdout",
     "output_type": "stream",
     "text": [
      "Total time taken = 19.93093495965919 minutes\n"
     ]
    }
   ],
   "source": [
    "print(f\"Total time taken = {(end_time-start_time)/60} minutes\")"
   ]
  },
  {
   "cell_type": "code",
   "execution_count": 262,
   "metadata": {
    "colab": {
     "base_uri": "https://localhost:8080/"
    },
    "id": "2K3zfrN_yUE1",
    "outputId": "837ec188-fc52-49d7-caec-c5cd6570bb32"
   },
   "outputs": [
    {
     "name": "stdout",
     "output_type": "stream",
     "text": [
      "Decoded watermark = A watermark for zama bounty\u0000\u0000\u0000\u0000\u0000\n"
     ]
    }
   ],
   "source": [
    "print(f\"Decoded watermark = {get_decoded_watermark(decoded_bits)}\")"
   ]
  },
  {
   "cell_type": "markdown",
   "metadata": {},
   "source": [
    "Our approach was able to recover the original watermark after adding gaussian blur to the watermarked image. Similar to noise addition, if we add large gaussian blur to our images we would not be able to recover the watermark. However, in that case the watermarked image would be completely disorted."
   ]
  }
 ],
 "metadata": {
  "colab": {
   "provenance": []
  },
  "kernelspec": {
   "display_name": "Python 3",
   "name": "python3"
  }
 },
 "nbformat": 4,
 "nbformat_minor": 0
}
